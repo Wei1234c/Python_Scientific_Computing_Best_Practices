{
 "cells": [
  {
   "cell_type": "markdown",
   "metadata": {},
   "source": [
    "# 6. SymPy 符號運算好幫手"
   ]
  },
  {
   "cell_type": "code",
   "execution_count": 1,
   "metadata": {
    "collapsed": false
   },
   "outputs": [
    {
     "name": "stdout",
     "output_type": "stream",
     "text": [
      "Populating the interactive namespace from numpy and matplotlib\n"
     ]
    }
   ],
   "source": [
    "%pylab inline \n",
    "from sympy import *\n",
    "init_printing(use_unicode = True)"
   ]
  },
  {
   "cell_type": "markdown",
   "metadata": {
    "collapsed": true
   },
   "source": [
    "## 6.1 從實例開始\n",
    "### 6.1.1 Eular 恆等式\n",
    "$e^{i\\pi} + 1 = 0$"
   ]
  },
  {
   "cell_type": "code",
   "execution_count": 2,
   "metadata": {
    "collapsed": false
   },
   "outputs": [
    {
     "data": {
      "text/plain": [
       "True"
      ]
     },
     "execution_count": 2,
     "metadata": {},
     "output_type": "execute_result"
    }
   ],
   "source": [
    "E**(I * pi) + 1 == 0"
   ]
  },
  {
   "cell_type": "code",
   "execution_count": 3,
   "metadata": {
    "collapsed": false
   },
   "outputs": [
    {
     "data": {
      "image/png": "[encoded data removed]",
      "text/latex": [
       "$$e^{i x}$$"
      ],
      "text/plain": [
       " ⅈ⋅x\n",
       "ℯ   "
      ]
     },
     "execution_count": 3,
     "metadata": {},
     "output_type": "execute_result"
    }
   ],
   "source": [
    "x = symbols('x')\n",
    "expr = E**(I*x)\n",
    "expr"
   ]
  },
  {
   "cell_type": "code",
   "execution_count": 4,
   "metadata": {
    "collapsed": false
   },
   "outputs": [
    {
     "data": {
      "image/png": "[encoded data removed]",
      "text/latex": [
       "$$i \\sin{\\left (x \\right )} + \\cos{\\left (x \\right )}$$"
      ],
      "text/plain": [
       "ⅈ⋅sin(x) + cos(x)"
      ]
     },
     "execution_count": 4,
     "metadata": {},
     "output_type": "execute_result"
    }
   ],
   "source": [
    "expr.rewrite(sin)"
   ]
  },
  {
   "cell_type": "code",
   "execution_count": 5,
   "metadata": {
    "collapsed": false
   },
   "outputs": [
    {
     "data": {
      "image/png": "[encoded data removed]",
      "text/latex": [
       "$$e^{i x}$$"
      ],
      "text/plain": [
       " ⅈ⋅x\n",
       "ℯ   "
      ]
     },
     "execution_count": 5,
     "metadata": {},
     "output_type": "execute_result"
    }
   ],
   "source": [
    "expand(expr)"
   ]
  },
  {
   "cell_type": "code",
   "execution_count": 6,
   "metadata": {
    "collapsed": false
   },
   "outputs": [
    {
     "data": {
      "image/png": "[encoded data removed]",
      "text/latex": [
       "$$i e^{- \\Im{x}} \\sin{\\left (\\Re{x} \\right )} + e^{- \\Im{x}} \\cos{\\left (\\Re{x} \\right )}$$"
      ],
      "text/plain": [
       "   -im(x)               -im(x)           \n",
       "ⅈ⋅ℯ      ⋅sin(re(x)) + ℯ      ⋅cos(re(x))"
      ]
     },
     "execution_count": 6,
     "metadata": {},
     "output_type": "execute_result"
    }
   ],
   "source": [
    "expand(expr, complex = True)"
   ]
  },
  {
   "cell_type": "code",
   "execution_count": 7,
   "metadata": {
    "collapsed": false
   },
   "outputs": [
    {
     "data": {
      "image/png": "[encoded data removed]",
      "text/latex": [
       "$$i e^{- \\Im{x}} \\sin{\\left (\\Re{x} \\right )} + e^{- \\Im{x}} \\cos{\\left (\\Re{x} \\right )}$$"
      ],
      "text/plain": [
       "   -im(x)               -im(x)           \n",
       "ⅈ⋅ℯ      ⋅sin(re(x)) + ℯ      ⋅cos(re(x))"
      ]
     },
     "execution_count": 7,
     "metadata": {},
     "output_type": "execute_result"
    }
   ],
   "source": [
    "expand(exp(I*x), complex = True)"
   ]
  },
  {
   "cell_type": "code",
   "execution_count": 8,
   "metadata": {
    "collapsed": false
   },
   "outputs": [
    {
     "data": {
      "image/png": "[encoded data removed]",
      "text/latex": [
       "$$i \\sin{\\left (x \\right )} + \\cos{\\left (x \\right )}$$"
      ],
      "text/plain": [
       "ⅈ⋅sin(x) + cos(x)"
      ]
     },
     "execution_count": 8,
     "metadata": {},
     "output_type": "execute_result"
    }
   ],
   "source": [
    "x = symbols('x', real = True)\n",
    "expand(exp(I*x), complex = True)"
   ]
  },
  {
   "cell_type": "code",
   "execution_count": 9,
   "metadata": {
    "collapsed": false
   },
   "outputs": [
    {
     "data": {
      "image/png": "[encoded data removed]",
      "text/latex": [
       "$$1 + i x - \\frac{x^{2}}{2} - \\frac{i x^{3}}{6} + \\frac{x^{4}}{24} + \\frac{i x^{5}}{120} - \\frac{x^{6}}{720} - \\frac{i x^{7}}{5040} + \\frac{x^{8}}{40320} + \\frac{i x^{9}}{362880} + \\mathcal{O}\\left(x^{10}\\right)$$"
      ],
      "text/plain": [
       "           2      3    4      5     6      7      8        9          \n",
       "          x    ⅈ⋅x    x    ⅈ⋅x     x    ⅈ⋅x      x      ⅈ⋅x      ⎛ 10⎞\n",
       "1 + ⅈ⋅x - ── - ──── + ── + ──── - ─── - ──── + ───── + ────── + O⎝x  ⎠\n",
       "          2     6     24   120    720   5040   40320   362880         "
      ]
     },
     "execution_count": 9,
     "metadata": {},
     "output_type": "execute_result"
    }
   ],
   "source": [
    "s = series(exp(I*x), x, 0, 10)  # 泰勒多項式展開\n",
    "s"
   ]
  },
  {
   "cell_type": "code",
   "execution_count": 10,
   "metadata": {
    "collapsed": false
   },
   "outputs": [
    {
     "data": {
      "image/png": "[encoded data removed]",
      "text/latex": [
       "$$\\frac{x^{8}}{40320} - \\frac{x^{6}}{720} + \\frac{x^{4}}{24} - \\frac{x^{2}}{2} + \\Re{\\mathcal{O}\\left(x^{10}\\right)} + 1$$"
      ],
      "text/plain": [
       "   8      6    4    2                 \n",
       "  x      x    x    x      ⎛ ⎛ 10⎞⎞    \n",
       "───── - ─── + ── - ── + re⎝O⎝x  ⎠⎠ + 1\n",
       "40320   720   24   2                  "
      ]
     },
     "execution_count": 10,
     "metadata": {},
     "output_type": "execute_result"
    }
   ],
   "source": [
    "re(s)"
   ]
  },
  {
   "cell_type": "code",
   "execution_count": 11,
   "metadata": {
    "collapsed": false
   },
   "outputs": [
    {
     "data": {
      "image/png": "[encoded data removed]",
      "text/latex": [
       "$$\\frac{x^{9}}{362880} - \\frac{x^{7}}{5040} + \\frac{x^{5}}{120} - \\frac{x^{3}}{6} + x + \\Im{\\mathcal{O}\\left(x^{10}\\right)}$$"
      ],
      "text/plain": [
       "   9       7      5    3                 \n",
       "  x       x      x    x          ⎛ ⎛ 10⎞⎞\n",
       "────── - ──── + ─── - ── + x + im⎝O⎝x  ⎠⎠\n",
       "362880   5040   120   6                  "
      ]
     },
     "execution_count": 11,
     "metadata": {},
     "output_type": "execute_result"
    }
   ],
   "source": [
    "im(s)"
   ]
  },
  {
   "cell_type": "code",
   "execution_count": 12,
   "metadata": {
    "collapsed": false
   },
   "outputs": [
    {
     "data": {
      "image/png": "[encoded data removed]",
      "text/latex": [
       "$$1 - \\frac{x^{2}}{2} + \\frac{x^{4}}{24} - \\frac{x^{6}}{720} + \\frac{x^{8}}{40320} + \\mathcal{O}\\left(x^{10}\\right)$$"
      ],
      "text/plain": [
       "     2    4     6      8          \n",
       "    x    x     x      x      ⎛ 10⎞\n",
       "1 - ── + ── - ─── + ───── + O⎝x  ⎠\n",
       "    2    24   720   40320         "
      ]
     },
     "execution_count": 12,
     "metadata": {},
     "output_type": "execute_result"
    }
   ],
   "source": [
    "series(cos(x), x, 0, 10)"
   ]
  },
  {
   "cell_type": "code",
   "execution_count": 13,
   "metadata": {
    "collapsed": false
   },
   "outputs": [
    {
     "data": {
      "image/png": "[encoded data removed]",
      "text/latex": [
       "$$e^{i x} - \\cos{\\left (x \\right )}$$"
      ],
      "text/plain": [
       " ⅈ⋅x         \n",
       "ℯ    - cos(x)"
      ]
     },
     "execution_count": 13,
     "metadata": {},
     "output_type": "execute_result"
    }
   ],
   "source": [
    "expr = (exp(I*x) - cos(x))\n",
    "expr"
   ]
  },
  {
   "cell_type": "code",
   "execution_count": 14,
   "metadata": {
    "collapsed": false
   },
   "outputs": [
    {
     "data": {
      "image/png": "[encoded data removed]",
      "text/latex": [
       "$$i \\sin{\\left (x \\right )}$$"
      ],
      "text/plain": [
       "ⅈ⋅sin(x)"
      ]
     },
     "execution_count": 14,
     "metadata": {},
     "output_type": "execute_result"
    }
   ],
   "source": [
    "expr.rewrite(sin)"
   ]
  },
  {
   "cell_type": "code",
   "execution_count": 15,
   "metadata": {
    "collapsed": false
   },
   "outputs": [
    {
     "data": {
      "image/png": "[encoded data removed]",
      "text/latex": [
       "$$i \\sin{\\left (x \\right )}$$"
      ],
      "text/plain": [
       "ⅈ⋅sin(x)"
      ]
     },
     "execution_count": 15,
     "metadata": {},
     "output_type": "execute_result"
    }
   ],
   "source": [
    "simplify(expr)"
   ]
  },
  {
   "cell_type": "markdown",
   "metadata": {},
   "source": [
    "### 6.1.2 球體體積"
   ]
  },
  {
   "cell_type": "code",
   "execution_count": 16,
   "metadata": {
    "collapsed": false
   },
   "outputs": [
    {
     "data": {
      "image/png": "[encoded data removed]",
      "text/latex": [
       "$$- x \\cos{\\left (x \\right )} + \\sin{\\left (x \\right )}$$"
      ],
      "text/plain": [
       "-x⋅cos(x) + sin(x)"
      ]
     },
     "execution_count": 16,
     "metadata": {},
     "output_type": "execute_result"
    }
   ],
   "source": [
    "integrate(x * sin(x), x)"
   ]
  },
  {
   "cell_type": "code",
   "execution_count": 17,
   "metadata": {
    "collapsed": false
   },
   "outputs": [
    {
     "data": {
      "image/png": "[encoded data removed]",
      "text/latex": [
       "$$- 2 \\pi$$"
      ],
      "text/plain": [
       "-2⋅π"
      ]
     },
     "execution_count": 17,
     "metadata": {},
     "output_type": "execute_result"
    }
   ],
   "source": [
    "integrate(x * sin(x), (x, 0, 2*pi))"
   ]
  },
  {
   "cell_type": "code",
   "execution_count": 18,
   "metadata": {
    "collapsed": false
   },
   "outputs": [
    {
     "data": {
      "image/png": "[encoded data removed]",
      "text/latex": [
       "$$\\pi r^{2}$$"
      ],
      "text/plain": [
       "   2\n",
       "π⋅r "
      ]
     },
     "execution_count": 18,
     "metadata": {},
     "output_type": "execute_result"
    }
   ],
   "source": [
    "x, y = symbols('x y')\n",
    "r = symbols('r', positive = True)\n",
    "y = sqrt(r**2 - x**2)\n",
    "circle_area = integrate(y, (x, -r, r)) * 2\n",
    "circle_area"
   ]
  },
  {
   "cell_type": "code",
   "execution_count": 19,
   "metadata": {
    "collapsed": false
   },
   "outputs": [
    {
     "data": {
      "image/png": "[encoded data removed]",
      "text/latex": [
       "$$9 \\pi$$"
      ],
      "text/plain": [
       "9⋅π"
      ]
     },
     "execution_count": 19,
     "metadata": {},
     "output_type": "execute_result"
    }
   ],
   "source": [
    "circle_area.subs(r, 3)"
   ]
  },
  {
   "cell_type": "code",
   "execution_count": 20,
   "metadata": {
    "collapsed": false
   },
   "outputs": [
    {
     "data": {
      "image/png": "[encoded data removed]",
      "text/latex": [
       "$$\\frac{4 \\pi}{3} r^{3}$$"
      ],
      "text/plain": [
       "     3\n",
       "4⋅π⋅r \n",
       "──────\n",
       "  3   "
      ]
     },
     "execution_count": 20,
     "metadata": {},
     "output_type": "execute_result"
    }
   ],
   "source": [
    "circle_volume = integrate(circle_area.subs(r, sqrt(r**2 - x**2)), (x, -r, r))\n",
    "circle_volume"
   ]
  },
  {
   "cell_type": "code",
   "execution_count": 21,
   "metadata": {
    "collapsed": false
   },
   "outputs": [
    {
     "data": {
      "image/png": "[encoded data removed]",
      "text/latex": [
       "$$36 \\pi$$"
      ],
      "text/plain": [
       "36⋅π"
      ]
     },
     "execution_count": 21,
     "metadata": {},
     "output_type": "execute_result"
    }
   ],
   "source": [
    "circle_volume.subs(r, 3)"
   ]
  },
  {
   "cell_type": "markdown",
   "metadata": {},
   "source": [
    "### 6.1.3 數值微分\n",
    "兩點公式：  \n",
    "\n",
    "$f'(x) = \\frac{f(x + h) - f(x)}{h}$"
   ]
  },
  {
   "cell_type": "code",
   "execution_count": 22,
   "metadata": {
    "collapsed": true
   },
   "outputs": [],
   "source": [
    "x = symbols('x', real = True)\n",
    "h = symbols('h', positive = True)\n",
    "f = symbols('f', cls = Function)"
   ]
  },
  {
   "cell_type": "code",
   "execution_count": 23,
   "metadata": {
    "collapsed": false
   },
   "outputs": [
    {
     "data": {
      "image/png": "[encoded data removed]",
      "text/latex": [
       "$$\\frac{d}{d x} f{\\left (x \\right )}$$"
      ],
      "text/plain": [
       "d       \n",
       "──(f(x))\n",
       "dx      "
      ]
     },
     "execution_count": 23,
     "metadata": {},
     "output_type": "execute_result"
    }
   ],
   "source": [
    "f_diff = f(x).diff(x, 1) # 微分\n",
    "f_diff"
   ]
  },
  {
   "cell_type": "code",
   "execution_count": 24,
   "metadata": {
    "collapsed": false
   },
   "outputs": [
    {
     "data": {
      "image/png": "[encoded data removed]",
      "text/latex": [
       "$$\\frac{11}{6 h} f{\\left (x \\right )} - \\frac{1}{3 h} f{\\left (- 3 h + x \\right )} + \\frac{3}{2 h} f{\\left (- 2 h + x \\right )} - \\frac{3}{h} f{\\left (- h + x \\right )}$$"
      ],
      "text/plain": [
       "11⋅f(x)   f(-3⋅h + x)   3⋅f(-2⋅h + x)   3⋅f(-h + x)\n",
       "─────── - ─────────── + ───────────── - ───────────\n",
       "  6⋅h         3⋅h            2⋅h             h     "
      ]
     },
     "execution_count": 24,
     "metadata": {},
     "output_type": "execute_result"
    }
   ],
   "source": [
    "# 使用 as_finite_diff()，將 f的導函數 改用 四點公式來表達\n",
    "expr_diff = as_finite_diff(f_diff, [x, x - h, x-2*h, x-3*h])  # 將 f'(x) 轉為  [x, x - h, x-2*h, x-3*h] 的N點公式\n",
    "expr_diff"
   ]
  },
  {
   "cell_type": "code",
   "execution_count": 25,
   "metadata": {
    "collapsed": false
   },
   "outputs": [
    {
     "data": {
      "image/png": "[encoded data removed]",
      "text/latex": [
       "$$\\frac{3}{2 h} f{\\left (x \\right )} + \\frac{1}{2 h} f{\\left (- 2 h + x \\right )} - \\frac{2}{h} f{\\left (- h + x \\right )}$$"
      ],
      "text/plain": [
       "3⋅f(x)   f(-2⋅h + x)   2⋅f(-h + x)\n",
       "────── + ─────────── - ───────────\n",
       " 2⋅h         2⋅h            h     "
      ]
     },
     "execution_count": 25,
     "metadata": {},
     "output_type": "execute_result"
    }
   ],
   "source": [
    "as_finite_diff(f_diff, [x, x-h, x-2*h])"
   ]
  },
  {
   "cell_type": "code",
   "execution_count": 26,
   "metadata": {
    "collapsed": false
   },
   "outputs": [
    {
     "data": {
      "image/png": "[encoded data removed]",
      "text/latex": [
       "$$\\frac{d}{d x}\\left(x e^{- x^{2}}\\right)$$"
      ],
      "text/plain": [
       "  ⎛     2⎞\n",
       "d ⎜   -x ⎟\n",
       "──⎝x⋅ℯ   ⎠\n",
       "dx        "
      ]
     },
     "execution_count": 26,
     "metadata": {},
     "output_type": "execute_result"
    }
   ],
   "source": [
    "# f的導函數，設定 f(x) = x * e^-x^2\n",
    "sym_dexpr = f_diff.subs(f(x), x * exp(-x**2))\n",
    "sym_dexpr\n",
    "# 這是一個 Derivative 物件"
   ]
  },
  {
   "cell_type": "code",
   "execution_count": 27,
   "metadata": {
    "collapsed": false
   },
   "outputs": [
    {
     "data": {
      "image/png": "[encoded data removed]",
      "text/latex": [
       "$$- 2 x^{2} e^{- x^{2}} + e^{- x^{2}}$$"
      ],
      "text/plain": [
       "          2      2\n",
       "     2  -x     -x \n",
       "- 2⋅x ⋅ℯ    + ℯ   "
      ]
     },
     "execution_count": 27,
     "metadata": {},
     "output_type": "execute_result"
    }
   ],
   "source": [
    "sym_dexpr.doit()\n",
    "# 把 Derivative 展開成為一個 expression 物件"
   ]
  },
  {
   "cell_type": "code",
   "execution_count": 28,
   "metadata": {
    "collapsed": false
   },
   "outputs": [
    {
     "data": {
      "image/png": "[encoded data removed]",
      "text/latex": [
       "$$- 2 x^{2} e^{- x^{2}} + e^{- x^{2}}$$"
      ],
      "text/plain": [
       "          2      2\n",
       "     2  -x     -x \n",
       "- 2⋅x ⋅ℯ    + ℯ   "
      ]
     },
     "execution_count": 28,
     "metadata": {},
     "output_type": "execute_result"
    }
   ],
   "source": [
    "(x*exp(-x**2)).diff()\n",
    "# 展開成為一個 expression 物件"
   ]
  },
  {
   "cell_type": "code",
   "execution_count": 29,
   "metadata": {
    "collapsed": false
   },
   "outputs": [
    {
     "data": {
      "text/plain": [
       "array([-0.36787944,  1.        , -0.36787944])"
      ]
     },
     "execution_count": 29,
     "metadata": {},
     "output_type": "execute_result"
    }
   ],
   "source": [
    "# 把 symbolic expression 經過 lambdify 成為一個數值函數\n",
    "sym_dfunc = lambdify([x], sym_dexpr.doit(), modules = 'numpy')\n",
    "sym_dfunc(np.array([-1, 0, 1]))\n",
    "# 可以帶入數值計算結果"
   ]
  },
  {
   "cell_type": "code",
   "execution_count": 30,
   "metadata": {
    "collapsed": false
   },
   "outputs": [
    {
     "data": {
      "image/png": "[encoded data removed]",
      "text/latex": [
       "$$\\frac{11}{6 h} f{\\left (x \\right )} - \\frac{1}{3 h} f{\\left (- 3 h + x \\right )} + \\frac{3}{2 h} f{\\left (- 2 h + x \\right )} - \\frac{3}{h} f{\\left (- h + x \\right )}$$"
      ],
      "text/plain": [
       "11⋅f(x)   f(-3⋅h + x)   3⋅f(-2⋅h + x)   3⋅f(-h + x)\n",
       "─────── - ─────────── + ───────────── - ───────────\n",
       "  6⋅h         3⋅h            2⋅h             h     "
      ]
     },
     "execution_count": 30,
     "metadata": {},
     "output_type": "execute_result"
    }
   ],
   "source": [
    "# 導函數的四點公式\n",
    "expr_diff"
   ]
  },
  {
   "cell_type": "code",
   "execution_count": 31,
   "metadata": {
    "collapsed": false
   },
   "outputs": [
    {
     "data": {
      "image/png": "[encoded data removed]",
      "text/latex": [
       "$$\\left ( - \\frac{3}{h} f{\\left (- h + x \\right )}, \\quad - \\frac{1}{3 h} f{\\left (- 3 h + x \\right )}, \\quad \\frac{3}{2 h} f{\\left (- 2 h + x \\right )}, \\quad \\frac{11}{6 h} f{\\left (x \\right )}\\right )$$"
      ],
      "text/plain": [
       "⎛-3⋅f(-h + x)   -f(-3⋅h + x)   3⋅f(-2⋅h + x)  11⋅f(x)⎞\n",
       "⎜─────────────, ─────────────, ─────────────, ───────⎟\n",
       "⎝      h             3⋅h            2⋅h         6⋅h  ⎠"
      ]
     },
     "execution_count": 31,
     "metadata": {},
     "output_type": "execute_result"
    }
   ],
   "source": [
    "# expression 中的 arguments\n",
    "expr_diff.args"
   ]
  },
  {
   "cell_type": "code",
   "execution_count": 32,
   "metadata": {
    "collapsed": false
   },
   "outputs": [
    {
     "data": {
      "text/plain": [
       "sympy.core.add.Add"
      ]
     },
     "execution_count": 32,
     "metadata": {},
     "output_type": "execute_result"
    }
   ],
   "source": [
    "# expression 中的 function\n",
    "expr_diff.func"
   ]
  },
  {
   "cell_type": "code",
   "execution_count": 33,
   "metadata": {
    "collapsed": false
   },
   "outputs": [
    {
     "data": {
      "image/png": "[encoded data removed]",
      "text/latex": [
       "$$\\left [ \\left \\{ c : - \\frac{3}{h}, \\quad w : - h + x\\right \\}, \\quad \\left \\{ c : - \\frac{1}{3 h}, \\quad w : - 3 h + x\\right \\}, \\quad \\left \\{ c : \\frac{3}{2 h}, \\quad w : - 2 h + x\\right \\}, \\quad \\left \\{ c : \\frac{11}{6 h}, \\quad w : x\\right \\}\\right ]$$"
      ],
      "text/plain": [
       "⎡⎧   -3            ⎫  ⎧   -1              ⎫  ⎧    3              ⎫  ⎧    11   \n",
       "⎢⎨c: ───, w: -h + x⎬, ⎨c: ───, w: -3⋅h + x⎬, ⎨c: ───, w: -2⋅h + x⎬, ⎨c: ───, w\n",
       "⎣⎩    h            ⎭  ⎩   3⋅h             ⎭  ⎩   2⋅h             ⎭  ⎩   6⋅h   \n",
       "\n",
       "   ⎫⎤\n",
       ": x⎬⎥\n",
       "   ⎭⎦"
      ]
     },
     "execution_count": 33,
     "metadata": {},
     "output_type": "execute_result"
    }
   ],
   "source": [
    "# 萃取每個 arguments 的係數與參數\n",
    "w = Wild('w')\n",
    "c = Wild('c')\n",
    "patterns = [arg.match(c * f(w)) for arg in expr_diff.args]\n",
    "patterns"
   ]
  },
  {
   "cell_type": "code",
   "execution_count": 34,
   "metadata": {
    "collapsed": false
   },
   "outputs": [
    {
     "data": {
      "image/png": "[encoded data removed]",
      "text/latex": [
       "$$\\left [ - \\frac{1}{3 h}, \\quad \\frac{3}{2 h}, \\quad - \\frac{3}{h}, \\quad \\frac{11}{6 h}\\right ]$$"
      ],
      "text/plain": [
       "⎡-1    3   -3    11⎤\n",
       "⎢───, ───, ───, ───⎥\n",
       "⎣3⋅h  2⋅h   h   6⋅h⎦"
      ]
     },
     "execution_count": 34,
     "metadata": {},
     "output_type": "execute_result"
    }
   ],
   "source": [
    "# 萃取每個 argument 的係數\n",
    "coefficients = [t[c] for t in sorted(patterns, key = lambda t:t[w])]\n",
    "coefficients"
   ]
  },
  {
   "cell_type": "code",
   "execution_count": 35,
   "metadata": {
    "collapsed": false
   },
   "outputs": [
    {
     "data": {
      "text/plain": [
       "array([ -333.33333333,  1500.        , -3000.        ,  1833.33333333])"
      ]
     },
     "execution_count": 35,
     "metadata": {},
     "output_type": "execute_result"
    }
   ],
   "source": [
    "# 要依據四點公式估算 導數，先假設 h 等於一個很小的值\n",
    "coeff_arr = np.array([float(coeff.subs(h, 1e-3)) for coeff in coefficients])\n",
    "coeff_arr"
   ]
  },
  {
   "cell_type": "code",
   "execution_count": 36,
   "metadata": {
    "collapsed": false
   },
   "outputs": [],
   "source": [
    "numpy.ndarray.itemsize?"
   ]
  },
  {
   "cell_type": "code",
   "execution_count": 37,
   "metadata": {
    "collapsed": false
   },
   "outputs": [
    {
     "data": {
      "image/png": "[encoded data removed]",
      "text/latex": [
       "$$4.08944167418e-09$$"
      ],
      "text/plain": [
       "4.08944167418e-09"
      ]
     },
     "execution_count": 37,
     "metadata": {},
     "output_type": "execute_result"
    }
   ],
   "source": [
    "def moving_window(x, size):\n",
    "    from numpy.lib.stride_tricks import as_strided\n",
    "    x = np.ascontiguousarray(x)\n",
    "    # 把原來的 array 切成很多部份重疊的 windows，新的shape 是 (n - window_size +1, window_size)\n",
    "    return as_strided(x, shape = (x.shape[0] - size + 1, size), strides = (x.itemsize, x.itemsize))\n",
    "\n",
    "x_arr = np.arange(-2, 2, 1e-3)  # 設定要估算導數的 x 區間\n",
    "y_arr = x_arr * np.exp(-x_arr **2)  # 計算 f(x) = x * e**(-x**2) 的值\n",
    "num_res = (moving_window(y_arr, 4) * coeff_arr).sum(axis = 1)  # 用 四點公式，假設 h = 0.001, 計算x軸每個點的導數\n",
    "sym_res = sym_dfunc(x_arr[3:])  # 用 lambdify 的 symbolic 函數計算導數\n",
    "np.max(np.abs(num_res - sym_res))"
   ]
  },
  {
   "cell_type": "code",
   "execution_count": 38,
   "metadata": {
    "collapsed": false
   },
   "outputs": [
    {
     "data": {
      "image/png": "[encoded data removed]",
      "text/plain": [
       "<matplotlib.figure.Figure at 0x7f63e8732c88>"
      ]
     },
     "metadata": {},
     "output_type": "display_data"
    }
   ],
   "source": [
    "plt.plot(x_arr[3:], y_arr[3:], label = '$f(x) = x e^{-x^2}$')\n",
    "plt.plot(x_arr[3:], num_res, label = 'as 4-points finite diff')\n",
    "plt.plot(x_arr[3:], sym_res, label = 'Symbolic function') \n",
    "plt.hlines(0, plt.xlim()[0], plt.xlim()[1], 'red')\n",
    "plt.legend();"
   ]
  },
  {
   "cell_type": "code",
   "execution_count": 39,
   "metadata": {
    "collapsed": false
   },
   "outputs": [
    {
     "data": {
      "image/png": "[encoded data removed]",
      "text/plain": [
       "<matplotlib.figure.Figure at 0x7f63e8167048>"
      ]
     },
     "metadata": {},
     "output_type": "display_data"
    }
   ],
   "source": [
    "def finite_diff_coefficients(f_diff, order, h, h_value): \n",
    "    points = [x - i * h for i in range(order)]\n",
    "    expr_diff = as_finite_diff(f_diff, points)\n",
    "    w = Wild('w')\n",
    "    c = Wild('c')    \n",
    "    patterns = [arg.match(c * f(w)) for arg in expr_diff.args]\n",
    "    coefficients = [t[c] for t in sorted(patterns, key = lambda t:t[w])] \n",
    "    coeff_arr = np.array([float(coeff.subs(h, h_value)) for coeff in coefficients]) \n",
    "    return coeff_arr\n",
    "\n",
    "    \n",
    "orders = [2, 3, 4]\n",
    "h = 1e-3\n",
    "\n",
    "for order in orders:\n",
    "    coeff_arr = finite_diff_coefficients(f_diff, order, h, 1e-3)\n",
    "    num_res = (moving_window(y_arr, order) * coeff_arr).sum(axis = 1)\n",
    "    sym_res = sym_dfunc(x_arr[order - 1:])\n",
    "    error_res = np.abs(num_res - sym_res)\n",
    "    plt.semilogy(x_arr[order - 1:], error_res, label = 'order = {}'.format(order))\n",
    "    plt.title('error between Symbolic functon', fontsize = 16)\n",
    "    plt.xlabel('X', fontsize = 12)\n",
    "    plt.ylabel('error', fontsize = 12)\n",
    "plt.legend();    "
   ]
  },
  {
   "cell_type": "markdown",
   "metadata": {},
   "source": [
    "## 6.2 數學運算式"
   ]
  },
  {
   "cell_type": "markdown",
   "metadata": {},
   "source": [
    "### 6.2.1 Symbol"
   ]
  },
  {
   "cell_type": "code",
   "execution_count": 40,
   "metadata": {
    "collapsed": false
   },
   "outputs": [
    {
     "data": {
      "image/png": "[encoded data removed]",
      "text/latex": [
       "$$\\left ( x_{0}, \\quad y_{0}, \\quad x_{1}, \\quad y_{1}\\right )$$"
      ],
      "text/plain": [
       "(x₀, y₀, x₁, y₁)"
      ]
     },
     "execution_count": 40,
     "metadata": {},
     "output_type": "execute_result"
    }
   ],
   "source": [
    "# var 快速建立 symbols，並注入到 globals\n",
    "var('x0 y0 x1 y1')"
   ]
  },
  {
   "cell_type": "code",
   "execution_count": 41,
   "metadata": {
    "collapsed": false
   },
   "outputs": [
    {
     "data": {
      "text/plain": [
       "sympy.core.symbol.Symbol"
      ]
     },
     "execution_count": 41,
     "metadata": {},
     "output_type": "execute_result"
    }
   ],
   "source": [
    "type(x0)"
   ]
  },
  {
   "cell_type": "code",
   "execution_count": 42,
   "metadata": {
    "collapsed": false
   },
   "outputs": [
    {
     "data": {
      "text/plain": [
       "'x0'"
      ]
     },
     "execution_count": 42,
     "metadata": {},
     "output_type": "execute_result"
    }
   ],
   "source": [
    "x0.name"
   ]
  },
  {
   "cell_type": "code",
   "execution_count": 43,
   "metadata": {
    "collapsed": false
   },
   "outputs": [
    {
     "data": {
      "text/plain": [
       "str"
      ]
     },
     "execution_count": 43,
     "metadata": {},
     "output_type": "execute_result"
    }
   ],
   "source": [
    "type(x0.name)"
   ]
  },
  {
   "cell_type": "code",
   "execution_count": 44,
   "metadata": {
    "collapsed": false
   },
   "outputs": [
    {
     "data": {
      "text/plain": [
       "sympy.core.symbol.Symbol"
      ]
     },
     "execution_count": 44,
     "metadata": {},
     "output_type": "execute_result"
    }
   ],
   "source": [
    "# 用 symbols 建立\n",
    "x1, y1 = symbols('x1 y1')\n",
    "type(x1)"
   ]
  },
  {
   "cell_type": "code",
   "execution_count": 45,
   "metadata": {
    "collapsed": false
   },
   "outputs": [
    {
     "data": {
      "text/plain": [
       "sympy.core.symbol.Symbol"
      ]
     },
     "execution_count": 45,
     "metadata": {},
     "output_type": "execute_result"
    }
   ],
   "source": [
    "# 用 Symbol 建立\n",
    "x2 = Symbol('x2')\n",
    "type(x2)"
   ]
  },
  {
   "cell_type": "code",
   "execution_count": 46,
   "metadata": {
    "collapsed": false
   },
   "outputs": [
    {
     "data": {
      "image/png": "[encoded data removed]",
      "text/latex": [
       "$$\\left ( \\alpha, \\quad \\beta\\right )$$"
      ],
      "text/plain": [
       "(α, β)"
      ]
     },
     "execution_count": 46,
     "metadata": {},
     "output_type": "execute_result"
    }
   ],
   "source": [
    "# 變數與 symbol 的 name 可以不一樣\n",
    "t = x0\n",
    "a, b = symbols('alpha, beta')\n",
    "a, b"
   ]
  },
  {
   "cell_type": "code",
   "execution_count": 47,
   "metadata": {
    "collapsed": false
   },
   "outputs": [
    {
     "data": {
      "text/plain": [
       "sympy.core.symbol.Symbol"
      ]
     },
     "execution_count": 47,
     "metadata": {},
     "output_type": "execute_result"
    }
   ],
   "source": [
    "type(a)"
   ]
  },
  {
   "cell_type": "code",
   "execution_count": 48,
   "metadata": {
    "collapsed": false
   },
   "outputs": [
    {
     "data": {
      "text/plain": [
       "'alpha'"
      ]
     },
     "execution_count": 48,
     "metadata": {},
     "output_type": "execute_result"
    }
   ],
   "source": [
    "a.name"
   ]
  },
  {
   "cell_type": "code",
   "execution_count": 49,
   "metadata": {
    "collapsed": false
   },
   "outputs": [
    {
     "data": {
      "image/png": "[encoded data removed]",
      "text/latex": [
       "$$x_{0} + \\sin{\\left (\\alpha \\right )} + \\sin{\\left (\\beta \\right )}$$"
      ],
      "text/plain": [
       "x₀ + sin(α) + sin(β)"
      ]
     },
     "execution_count": 49,
     "metadata": {},
     "output_type": "execute_result"
    }
   ],
   "source": [
    "# symbol name 最好用正統名稱\n",
    "sin(a) + sin(b) + t"
   ]
  },
  {
   "cell_type": "code",
   "execution_count": 50,
   "metadata": {
    "collapsed": false
   },
   "outputs": [
    {
     "data": {
      "image/png": "[encoded data removed]",
      "text/latex": [
       "$$\\theta$$"
      ],
      "text/plain": [
       "θ"
      ]
     },
     "execution_count": 50,
     "metadata": {},
     "output_type": "execute_result"
    }
   ],
   "source": [
    "ta = symbols('theta')\n",
    "ta"
   ]
  },
  {
   "cell_type": "code",
   "execution_count": 51,
   "metadata": {
    "collapsed": false
   },
   "outputs": [
    {
     "data": {
      "image/png": "[encoded data removed]",
      "text/latex": [
       "$$\\sin{\\left (\\theta \\right )}$$"
      ],
      "text/plain": [
       "sin(θ)"
      ]
     },
     "execution_count": 51,
     "metadata": {},
     "output_type": "execute_result"
    }
   ],
   "source": [
    "sin(ta)"
   ]
  },
  {
   "cell_type": "code",
   "execution_count": 52,
   "metadata": {
    "collapsed": true
   },
   "outputs": [],
   "source": [
    "# 對 symbol 設定一些 假設條件\n",
    "m, n = symbols('m, n', integer = True)\n",
    "x = symbols('x', positive = True)"
   ]
  },
  {
   "cell_type": "code",
   "execution_count": 53,
   "metadata": {
    "collapsed": false
   },
   "outputs": [
    {
     "data": {
      "text/plain": [
       "True"
      ]
     },
     "execution_count": 53,
     "metadata": {},
     "output_type": "execute_result"
    }
   ],
   "source": [
    "x.is_positive"
   ]
  },
  {
   "cell_type": "code",
   "execution_count": 54,
   "metadata": {
    "collapsed": false
   },
   "outputs": [
    {
     "data": {
      "text/plain": [
       "['is_Add',\n",
       " 'is_AlgebraicNumber',\n",
       " 'is_Atom',\n",
       " 'is_Boolean',\n",
       " 'is_Derivative',\n",
       " 'is_Dummy',\n",
       " 'is_Equality',\n",
       " 'is_Float',\n",
       " 'is_Function',\n",
       " 'is_Integer',\n",
       " 'is_Matrix',\n",
       " 'is_Mul',\n",
       " 'is_Not',\n",
       " 'is_Number',\n",
       " 'is_NumberSymbol',\n",
       " 'is_Order',\n",
       " 'is_Piecewise',\n",
       " 'is_Point',\n",
       " 'is_Poly',\n",
       " 'is_Pow',\n",
       " 'is_Rational',\n",
       " 'is_Relational',\n",
       " 'is_Symbol',\n",
       " 'is_Vector',\n",
       " 'is_Wild',\n",
       " 'is_algebraic',\n",
       " 'is_algebraic_expr',\n",
       " 'is_antihermitian',\n",
       " 'is_commutative',\n",
       " 'is_comparable',\n",
       " 'is_complex',\n",
       " 'is_composite',\n",
       " 'is_constant',\n",
       " 'is_even',\n",
       " 'is_finite',\n",
       " 'is_hermitian',\n",
       " 'is_hypergeometric',\n",
       " 'is_imaginary',\n",
       " 'is_infinite',\n",
       " 'is_integer',\n",
       " 'is_irrational',\n",
       " 'is_negative',\n",
       " 'is_noninteger',\n",
       " 'is_nonnegative',\n",
       " 'is_nonpositive',\n",
       " 'is_nonzero',\n",
       " 'is_number',\n",
       " 'is_odd',\n",
       " 'is_polar',\n",
       " 'is_polynomial',\n",
       " 'is_positive',\n",
       " 'is_prime',\n",
       " 'is_rational',\n",
       " 'is_rational_function',\n",
       " 'is_real',\n",
       " 'is_transcendental',\n",
       " 'is_zero']"
      ]
     },
     "execution_count": 54,
     "metadata": {},
     "output_type": "execute_result"
    }
   ],
   "source": [
    "# is_xxx 屬性\n",
    "is_attrs = [attr for attr in dir(x) if attr.startswith('is_')]\n",
    "sorted(is_attrs)"
   ]
  },
  {
   "cell_type": "code",
   "execution_count": 55,
   "metadata": {
    "collapsed": false
   },
   "outputs": [
    {
     "data": {
      "text/plain": [
       "{'commutative': True,\n",
       " 'complex': True,\n",
       " 'hermitian': True,\n",
       " 'imaginary': False,\n",
       " 'negative': False,\n",
       " 'nonnegative': True,\n",
       " 'nonpositive': False,\n",
       " 'nonzero': True,\n",
       " 'positive': True,\n",
       " 'real': True,\n",
       " 'zero': False}"
      ]
     },
     "execution_count": 55,
     "metadata": {},
     "output_type": "execute_result"
    }
   ],
   "source": [
    "# assumptions\n",
    "x.assumptions0"
   ]
  },
  {
   "cell_type": "code",
   "execution_count": 56,
   "metadata": {
    "collapsed": false
   },
   "outputs": [
    {
     "data": {
      "text/plain": [
       "[sympy.core.symbol.Symbol,\n",
       " sympy.core.expr.AtomicExpr,\n",
       " sympy.core.basic.Atom,\n",
       " sympy.core.expr.Expr,\n",
       " sympy.logic.boolalg.Boolean,\n",
       " sympy.core.basic.Basic,\n",
       " sympy.core.evalf.EvalfMixin,\n",
       " object]"
      ]
     },
     "execution_count": 56,
     "metadata": {},
     "output_type": "execute_result"
    }
   ],
   "source": [
    "# Basic 為所有物件之母\n",
    "x.__class__.mro()"
   ]
  },
  {
   "cell_type": "markdown",
   "metadata": {},
   "source": [
    "### 6.2.2 數值"
   ]
  },
  {
   "cell_type": "code",
   "execution_count": 57,
   "metadata": {
    "collapsed": false
   },
   "outputs": [
    {
     "data": {
      "image/png": "[encoded data removed]",
      "text/latex": [
       "$$0.8333333333333333$$"
      ],
      "text/plain": [
       "0.8333333333333333"
      ]
     },
     "execution_count": 57,
     "metadata": {},
     "output_type": "execute_result"
    }
   ],
   "source": [
    "1/2 + 1/3"
   ]
  },
  {
   "cell_type": "code",
   "execution_count": 58,
   "metadata": {
    "collapsed": false
   },
   "outputs": [
    {
     "data": {
      "image/png": "[encoded data removed]",
      "text/latex": [
       "$$\\frac{5}{6}$$"
      ],
      "text/plain": [
       "5/6"
      ]
     },
     "execution_count": 58,
     "metadata": {},
     "output_type": "execute_result"
    }
   ],
   "source": [
    "# 用 S 建立 SymPy 體系的數值\n",
    "S(1)/2 + S(1)/3"
   ]
  },
  {
   "cell_type": "code",
   "execution_count": 59,
   "metadata": {
    "collapsed": false
   },
   "outputs": [
    {
     "data": {
      "text/plain": [
       "sympy.core.numbers.Rational"
      ]
     },
     "execution_count": 59,
     "metadata": {},
     "output_type": "execute_result"
    }
   ],
   "source": [
    "# Rational\n",
    "r = S(5)/6\n",
    "type(r)"
   ]
  },
  {
   "cell_type": "code",
   "execution_count": 60,
   "metadata": {
    "collapsed": false
   },
   "outputs": [
    {
     "data": {
      "image/png": "[encoded data removed]",
      "text/latex": [
       "$$0.83333333333333333333333333333333333333333333333333$$"
      ],
      "text/plain": [
       "0.83333333333333333333333333333333333333333333333333"
      ]
     },
     "execution_count": 60,
     "metadata": {},
     "output_type": "execute_result"
    }
   ],
   "source": [
    "# 用 N 還估計數值\n",
    "N(r, 50)"
   ]
  },
  {
   "cell_type": "code",
   "execution_count": 61,
   "metadata": {
    "collapsed": false
   },
   "outputs": [
    {
     "data": {
      "image/png": "[encoded data removed]",
      "text/latex": [
       "$$1.100000000000000088817841970012523233890533447265625$$"
      ],
      "text/plain": [
       "1.10000000000000008881784197001252323389053344726562500000000"
      ]
     },
     "execution_count": 61,
     "metadata": {},
     "output_type": "execute_result"
    }
   ],
   "source": [
    "# N 可以指定精度\n",
    "N(1.1, 60)"
   ]
  },
  {
   "cell_type": "code",
   "execution_count": 62,
   "metadata": {
    "collapsed": false
   },
   "outputs": [
    {
     "data": {
      "image/png": "[encoded data removed]",
      "text/latex": [
       "$$0.1000000000000000055511151231257827021181583404541015625$$"
      ],
      "text/plain": [
       "0.100000000000000005551115123125782702118158340454101562500000"
      ]
     },
     "execution_count": 62,
     "metadata": {},
     "output_type": "execute_result"
    }
   ],
   "source": [
    "N(0.1, 60)"
   ]
  },
  {
   "cell_type": "code",
   "execution_count": 63,
   "metadata": {
    "collapsed": false
   },
   "outputs": [
    {
     "data": {
      "image/png": "[encoded data removed]",
      "text/latex": [
       "$$0.1$$"
      ],
      "text/plain": [
       "0.100000000000000000000000000000000000000000000000000000000000"
      ]
     },
     "execution_count": 63,
     "metadata": {},
     "output_type": "execute_result"
    }
   ],
   "source": [
    "# 用 字串來建立 Float 物件，精度才不會跑掉\n",
    "N(Float('0.1', 60), 60)"
   ]
  },
  {
   "cell_type": "code",
   "execution_count": 64,
   "metadata": {
    "collapsed": false
   },
   "outputs": [
    {
     "data": {
      "image/png": "[encoded data removed]",
      "text/latex": [
       "$$0.099999999999999999999999999999999999999999999999999999999999996111$$"
      ],
      "text/plain": [
       "0.099999999999999999999999999999999999999999999999999999999999996111"
      ]
     },
     "execution_count": 64,
     "metadata": {},
     "output_type": "execute_result"
    }
   ],
   "source": [
    "# 指定的精度要足夠\n",
    "N(Float('0.1', 60), 65)"
   ]
  },
  {
   "cell_type": "code",
   "execution_count": 65,
   "metadata": {
    "collapsed": false
   },
   "outputs": [
    {
     "data": {
      "image/png": "[encoded data removed]",
      "text/latex": [
       "$$3.1415926535897932384626433832795028841971693993751$$"
      ],
      "text/plain": [
       "3.1415926535897932384626433832795028841971693993751"
      ]
     },
     "execution_count": 65,
     "metadata": {},
     "output_type": "execute_result"
    }
   ],
   "source": [
    "N(pi, 50)"
   ]
  },
  {
   "cell_type": "code",
   "execution_count": 66,
   "metadata": {
    "collapsed": false
   },
   "outputs": [
    {
     "data": {
      "image/png": "[encoded data removed]",
      "text/latex": [
       "$$1.4142135623730950488016887242096980785696718753769$$"
      ],
      "text/plain": [
       "1.4142135623730950488016887242096980785696718753769"
      ]
     },
     "execution_count": 66,
     "metadata": {},
     "output_type": "execute_result"
    }
   ],
   "source": [
    "N(sqrt(2), 50)"
   ]
  },
  {
   "cell_type": "markdown",
   "metadata": {},
   "source": [
    "### 6.2.3 運算子和函數"
   ]
  },
  {
   "cell_type": "code",
   "execution_count": 67,
   "metadata": {
    "collapsed": false
   },
   "outputs": [
    {
     "data": {
      "text/plain": [
       "[sympy.core.add.Add,\n",
       " sympy.core.expr.Expr,\n",
       " sympy.core.operations.AssocOp,\n",
       " sympy.core.basic.Basic,\n",
       " sympy.core.evalf.EvalfMixin,\n",
       " object]"
      ]
     },
     "execution_count": 67,
     "metadata": {},
     "output_type": "execute_result"
    }
   ],
   "source": [
    "# operators 依然繼承 Basic\n",
    "Add.mro()"
   ]
  },
  {
   "cell_type": "code",
   "execution_count": 68,
   "metadata": {
    "collapsed": false
   },
   "outputs": [
    {
     "data": {
      "image/png": "[encoded data removed]",
      "text/latex": [
       "$$\\left ( x, \\quad y, \\quad z\\right )$$"
      ],
      "text/plain": [
       "(x, y, z)"
      ]
     },
     "execution_count": 68,
     "metadata": {},
     "output_type": "execute_result"
    }
   ],
   "source": [
    "var('x y z')"
   ]
  },
  {
   "cell_type": "code",
   "execution_count": 69,
   "metadata": {
    "collapsed": false
   },
   "outputs": [
    {
     "data": {
      "image/png": "[encoded data removed]",
      "text/latex": [
       "$$x + y + z$$"
      ],
      "text/plain": [
       "x + y + z"
      ]
     },
     "execution_count": 69,
     "metadata": {},
     "output_type": "execute_result"
    }
   ],
   "source": [
    "Add(x, y, z)"
   ]
  },
  {
   "cell_type": "code",
   "execution_count": 70,
   "metadata": {
    "collapsed": false
   },
   "outputs": [
    {
     "data": {
      "image/png": "[encoded data removed]",
      "text/latex": [
       "$$x y z + x^{y} + \\sin{\\left (z \\right )}$$"
      ],
      "text/plain": [
       "         y         \n",
       "x⋅y⋅z + x  + sin(z)"
      ]
     },
     "execution_count": 70,
     "metadata": {},
     "output_type": "execute_result"
    }
   ],
   "source": [
    "# Expression 是一棵樹\n",
    "Add(Mul(x, y, z), Pow(x, y), sin(z))"
   ]
  },
  {
   "cell_type": "code",
   "execution_count": 71,
   "metadata": {
    "collapsed": false
   },
   "outputs": [
    {
     "data": {
      "image/png": "[encoded data removed]",
      "text/latex": [
       "$$x y z + x^{y} + \\sin{\\left (z \\right )}$$"
      ],
      "text/plain": [
       "         y         \n",
       "x⋅y⋅z + x  + sin(z)"
      ]
     },
     "execution_count": 71,
     "metadata": {},
     "output_type": "execute_result"
    }
   ],
   "source": [
    "# 四則運算有經過 operators override\n",
    "x*y*z + x**y + sin(z)"
   ]
  },
  {
   "cell_type": "code",
   "execution_count": 72,
   "metadata": {
    "collapsed": false
   },
   "outputs": [
    {
     "data": {
      "image/png": "[encoded data removed]",
      "text/latex": [
       "$$x - y$$"
      ],
      "text/plain": [
       "x - y"
      ]
     },
     "execution_count": 72,
     "metadata": {},
     "output_type": "execute_result"
    }
   ],
   "source": [
    "t = x - y\n",
    "t"
   ]
  },
  {
   "cell_type": "code",
   "execution_count": 73,
   "metadata": {
    "collapsed": false
   },
   "outputs": [
    {
     "data": {
      "text/plain": [
       "sympy.core.add.Add"
      ]
     },
     "execution_count": 73,
     "metadata": {},
     "output_type": "execute_result"
    }
   ],
   "source": [
    "# SymPy 中沒有減法 或 除法\n",
    "type(t)"
   ]
  },
  {
   "cell_type": "code",
   "execution_count": 74,
   "metadata": {
    "collapsed": false
   },
   "outputs": [
    {
     "data": {
      "text/plain": [
       "sympy.core.add.Add"
      ]
     },
     "execution_count": 74,
     "metadata": {},
     "output_type": "execute_result"
    }
   ],
   "source": [
    "t.func"
   ]
  },
  {
   "cell_type": "code",
   "execution_count": 75,
   "metadata": {
    "collapsed": false
   },
   "outputs": [
    {
     "data": {
      "image/png": "[encoded data removed]",
      "text/latex": [
       "$$\\left ( x, \\quad - y\\right )$$"
      ],
      "text/plain": [
       "(x, -y)"
      ]
     },
     "execution_count": 75,
     "metadata": {},
     "output_type": "execute_result"
    }
   ],
   "source": [
    "t.args"
   ]
  },
  {
   "cell_type": "code",
   "execution_count": 76,
   "metadata": {
    "collapsed": false
   },
   "outputs": [
    {
     "data": {
      "text/plain": [
       "'x'"
      ]
     },
     "execution_count": 76,
     "metadata": {},
     "output_type": "execute_result"
    }
   ],
   "source": [
    "t.args[0].name"
   ]
  },
  {
   "cell_type": "code",
   "execution_count": 77,
   "metadata": {
    "collapsed": false
   },
   "outputs": [
    {
     "data": {
      "text/plain": [
       "sympy.core.symbol.Symbol"
      ]
     },
     "execution_count": 77,
     "metadata": {},
     "output_type": "execute_result"
    }
   ],
   "source": [
    "t.args[0].func"
   ]
  },
  {
   "cell_type": "code",
   "execution_count": 78,
   "metadata": {
    "collapsed": false
   },
   "outputs": [
    {
     "data": {
      "image/png": "[encoded data removed]",
      "text/latex": [
       "$$\\left ( \\right )$$"
      ],
      "text/plain": [
       "()"
      ]
     },
     "execution_count": 78,
     "metadata": {},
     "output_type": "execute_result"
    }
   ],
   "source": [
    "t.args[0].args\n",
    "# Expression 是一棵樹"
   ]
  },
  {
   "cell_type": "code",
   "execution_count": 79,
   "metadata": {
    "collapsed": false
   },
   "outputs": [
    {
     "data": {
      "text/plain": [
       "f"
      ]
     },
     "execution_count": 79,
     "metadata": {},
     "output_type": "execute_result"
    }
   ],
   "source": [
    "f = Function('f')\n",
    "f\n",
    "# f 是一個繼承 Function 的類別，而不是 Function 的實例"
   ]
  },
  {
   "cell_type": "code",
   "execution_count": 80,
   "metadata": {
    "collapsed": false
   },
   "outputs": [
    {
     "data": {
      "text/plain": [
       "sympy.core.function.UndefinedFunction"
      ]
     },
     "execution_count": 80,
     "metadata": {},
     "output_type": "execute_result"
    }
   ],
   "source": [
    "type(f)"
   ]
  },
  {
   "cell_type": "code",
   "execution_count": 81,
   "metadata": {
    "collapsed": false
   },
   "outputs": [
    {
     "data": {
      "text/plain": [
       "True"
      ]
     },
     "execution_count": 81,
     "metadata": {},
     "output_type": "execute_result"
    }
   ],
   "source": [
    "issubclass(f, Function)\n",
    "# f 是一個繼承 Function 的類別，而不是 Function 的實例"
   ]
  },
  {
   "cell_type": "code",
   "execution_count": 82,
   "metadata": {
    "collapsed": false
   },
   "outputs": [
    {
     "data": {
      "image/png": "[encoded data removed]",
      "text/latex": [
       "$$f{\\left (x,y \\right )}$$"
      ],
      "text/plain": [
       "f(x, y)"
      ]
     },
     "execution_count": 82,
     "metadata": {},
     "output_type": "execute_result"
    }
   ],
   "source": [
    "t = f(x, y)\n",
    "t"
   ]
  },
  {
   "cell_type": "code",
   "execution_count": 83,
   "metadata": {
    "collapsed": false
   },
   "outputs": [
    {
     "data": {
      "text/plain": [
       "sympy.core.function.UndefinedFunction"
      ]
     },
     "execution_count": 83,
     "metadata": {},
     "output_type": "execute_result"
    }
   ],
   "source": [
    "type(f)"
   ]
  },
  {
   "cell_type": "code",
   "execution_count": 84,
   "metadata": {
    "collapsed": false
   },
   "outputs": [
    {
     "data": {
      "text/plain": [
       "f"
      ]
     },
     "execution_count": 84,
     "metadata": {},
     "output_type": "execute_result"
    }
   ],
   "source": [
    "type(t)\n",
    "# t 是 f 類別的實例"
   ]
  },
  {
   "cell_type": "code",
   "execution_count": 85,
   "metadata": {
    "collapsed": false
   },
   "outputs": [
    {
     "data": {
      "image/png": "[encoded data removed]",
      "text/latex": [
       "$$f^{2}{\\left (x,y \\right )} + f{\\left (x,y \\right )}$$"
      ],
      "text/plain": [
       " 2                \n",
       "f (x, y) + f(x, y)"
      ]
     },
     "execution_count": 85,
     "metadata": {},
     "output_type": "execute_result"
    }
   ],
   "source": [
    "t**2 + t\n",
    "# 可以代表 f 來作四則運算"
   ]
  },
  {
   "cell_type": "markdown",
   "metadata": {},
   "source": [
    "### 6.2.4 萬用字元"
   ]
  },
  {
   "cell_type": "code",
   "execution_count": 86,
   "metadata": {
    "collapsed": false
   },
   "outputs": [
    {
     "data": {
      "image/png": "[encoded data removed]",
      "text/latex": [
       "$$3 x \\left(x + y\\right)^{2}$$"
      ],
      "text/plain": [
       "           2\n",
       "3⋅x⋅(x + y) "
      ]
     },
     "execution_count": 86,
     "metadata": {},
     "output_type": "execute_result"
    }
   ],
   "source": [
    "x, y = symbols('x y')\n",
    "expr = 3 * x * (x + y) **2\n",
    "expr"
   ]
  },
  {
   "cell_type": "code",
   "execution_count": 87,
   "metadata": {
    "collapsed": false
   },
   "outputs": [
    {
     "data": {
      "image/png": "[encoded data removed]",
      "text/latex": [
       "$$\\left \\{ a : 3 x, \\quad b : x + y\\right \\}$$"
      ],
      "text/plain": [
       "{a: 3⋅x, b: x + y}"
      ]
     },
     "execution_count": 87,
     "metadata": {},
     "output_type": "execute_result"
    }
   ],
   "source": [
    "# 用 Wild 符號 和 match 方法，在一個 expression 中尋找特定 pattern\n",
    "a = Wild('a')\n",
    "b = Wild('b')\n",
    "expr.match(a * b**2)"
   ]
  },
  {
   "cell_type": "code",
   "execution_count": 88,
   "metadata": {
    "collapsed": false
   },
   "outputs": [
    {
     "data": {
      "image/png": "[encoded data removed]",
      "text/latex": [
       "$$\\left(x + y\\right)^{3}$$"
      ],
      "text/plain": [
       "       3\n",
       "(x + y) "
      ]
     },
     "execution_count": 88,
     "metadata": {},
     "output_type": "execute_result"
    }
   ],
   "source": [
    "# find\n",
    "expr =  (x + y) **3\n",
    "expr"
   ]
  },
  {
   "cell_type": "code",
   "execution_count": 89,
   "metadata": {
    "collapsed": false
   },
   "outputs": [
    {
     "data": {
      "image/png": "[encoded data removed]",
      "text/latex": [
       "$$x^{3} + 3 x^{2} y + 3 x y^{2} + y^{3}$$"
      ],
      "text/plain": [
       " 3      2          2    3\n",
       "x  + 3⋅x ⋅y + 3⋅x⋅y  + y "
      ]
     },
     "execution_count": 89,
     "metadata": {},
     "output_type": "execute_result"
    }
   ],
   "source": [
    "expr = expr.expand()\n",
    "expr"
   ]
  },
  {
   "cell_type": "code",
   "execution_count": 90,
   "metadata": {
    "collapsed": false
   },
   "outputs": [
    {
     "data": {
      "image/png": "[encoded data removed]",
      "text/latex": [
       "$$\\left\\{2, 3, x, x^{2}, x^{3}, y, y^{2}, y^{3}, 3 x y^{2}, 3 x^{2} y, x^{3} + 3 x^{2} y + 3 x y^{2} + y^{3}\\right\\}$$"
      ],
      "text/plain": [
       "   ⎛⎡          2   3      2   3       2     2     3      2          2    3⎤⎞\n",
       "set⎝⎣2, 3, x, x , x , y, y , y , 3⋅x⋅y , 3⋅x ⋅y, x  + 3⋅x ⋅y + 3⋅x⋅y  + y ⎦⎠"
      ]
     },
     "execution_count": 90,
     "metadata": {},
     "output_type": "execute_result"
    }
   ],
   "source": [
    "expr.find(a * b**2)\n",
    "# find() 方法會在 expression 樹狀結構中尋找所有符合範本的子樹\n",
    "# 2 也出現！"
   ]
  },
  {
   "cell_type": "code",
   "execution_count": 91,
   "metadata": {
    "collapsed": false
   },
   "outputs": [
    {
     "data": {
      "image/png": "[encoded data removed]",
      "text/latex": [
       "$$\\left [ \\left ( x, \\quad \\left \\{ a : 1, \\quad b : \\sqrt{x}\\right \\}\\right ), \\quad \\left ( 3, \\quad \\left \\{ a : 1, \\quad b : \\sqrt{3}\\right \\}\\right ), \\quad \\left ( 2, \\quad \\left \\{ a : 1, \\quad b : \\sqrt{2}\\right \\}\\right ), \\quad \\left ( x^{3}, \\quad \\left \\{ a : 1, \\quad b : x^{\\frac{3}{2}}\\right \\}\\right ), \\quad \\left ( x^{3} + 3 x^{2} y + 3 x y^{2} + y^{3}, \\quad \\left \\{ a : 1, \\quad b : \\sqrt{x^{3} + 3 x^{2} y + 3 x y^{2} + y^{3}}\\right \\}\\right ), \\quad \\left ( 3 x y^{2}, \\quad \\left \\{ a : 3 x, \\quad b : y\\right \\}\\right ), \\quad \\left ( 3 x^{2} y, \\quad \\left \\{ a : 3 y, \\quad b : x\\right \\}\\right ), \\quad \\left ( y^{3}, \\quad \\left \\{ a : 1, \\quad b : y^{\\frac{3}{2}}\\right \\}\\right ), \\quad \\left ( y^{2}, \\quad \\left \\{ a : 1, \\quad b : y\\right \\}\\right ), \\quad \\left ( y, \\quad \\left \\{ a : 1, \\quad b : \\sqrt{y}\\right \\}\\right ), \\quad \\left ( x^{2}, \\quad \\left \\{ a : 1, \\quad b : x\\right \\}\\right )\\right ]$$"
      ],
      "text/plain": [
       "⎡                                                                             \n",
       "⎢                                                            ⎛ 3  ⎧          3\n",
       "⎢(x, {a: 1, b: √x}), (3, {a: 1, b: √3}), (2, {a: 1, b: √2}), ⎜x , ⎨a: 1, b: x \n",
       "⎣                                                            ⎝    ⎩           \n",
       "\n",
       "      ⎛                           ⎧            ___________________________⎫⎞  \n",
       "/2⎫⎞  ⎜ 3      2          2    3  ⎨           ╱  3      2          2    3 ⎬⎟  \n",
       "  ⎬⎟, ⎝x  + 3⋅x ⋅y + 3⋅x⋅y  + y , ⎩a: 1, b: ╲╱  x  + 3⋅x ⋅y + 3⋅x⋅y  + y  ⎭⎠, \n",
       "  ⎭⎠                                                                          \n",
       "\n",
       "                                                                              \n",
       "⎛     2                ⎞  ⎛   2                  ⎞  ⎛ 3  ⎧          3/2⎫⎞  ⎛ 2\n",
       "⎝3⋅x⋅y , {a: 3⋅x, b: y}⎠, ⎝3⋅x ⋅y, {a: 3⋅y, b: x}⎠, ⎜y , ⎨a: 1, b: y   ⎬⎟, ⎝y \n",
       "                                                    ⎝    ⎩             ⎭⎠     \n",
       "\n",
       "                                                       ⎤\n",
       "              ⎞                      ⎛ 2              ⎞⎥\n",
       ", {a: 1, b: y}⎠, (y, {a: 1, b: √y}), ⎝x , {a: 1, b: x}⎠⎥\n",
       "                                                       ⎦"
      ]
     },
     "execution_count": 91,
     "metadata": {},
     "output_type": "execute_result"
    }
   ],
   "source": [
    "def find_match(expr, pattern):\n",
    "    return [(e, e.match(pattern)) for e in expr.find(pattern)]\n",
    "\n",
    "expr = ((x + y) **3).expand()\n",
    "find_match(expr, a*b**2)"
   ]
  },
  {
   "cell_type": "code",
   "execution_count": 92,
   "metadata": {
    "collapsed": false
   },
   "outputs": [
    {
     "data": {
      "image/png": "[encoded data removed]",
      "text/latex": [
       "$$x^{3} + 3 x^{2} y + 3 x y^{2} + y^{3}$$"
      ],
      "text/plain": [
       " 3      2          2    3\n",
       "x  + 3⋅x ⋅y + 3⋅x⋅y  + y "
      ]
     },
     "execution_count": 92,
     "metadata": {},
     "output_type": "execute_result"
    }
   ],
   "source": [
    "a = Wild('a', exclude = [1, Pow])\n",
    "b = Wild('b', exclude = [1, Pow])\n",
    "# 用 exclude 限制 萬用字元的篩選條件\n",
    "\n",
    "expr = expand((x + y)**3)\n",
    "expr"
   ]
  },
  {
   "cell_type": "code",
   "execution_count": 93,
   "metadata": {
    "collapsed": false
   },
   "outputs": [
    {
     "data": {
      "image/png": "[encoded data removed]",
      "text/latex": [
       "$$\\left [ \\left ( 3 x y^{2}, \\quad \\left \\{ a : 3 x, \\quad b : y\\right \\}\\right ), \\quad \\left ( y^{3}, \\quad \\left \\{ a : y, \\quad b : y\\right \\}\\right ), \\quad \\left ( x^{3}, \\quad \\left \\{ a : x, \\quad b : x\\right \\}\\right ), \\quad \\left ( 3 x^{2} y, \\quad \\left \\{ a : 3 y, \\quad b : x\\right \\}\\right )\\right ]$$"
      ],
      "text/plain": [
       "⎡⎛     2                ⎞  ⎛ 3              ⎞  ⎛ 3              ⎞  ⎛   2      \n",
       "⎣⎝3⋅x⋅y , {a: 3⋅x, b: y}⎠, ⎝y , {a: y, b: y}⎠, ⎝x , {a: x, b: x}⎠, ⎝3⋅x ⋅y, {a\n",
       "\n",
       "            ⎞⎤\n",
       ": 3⋅y, b: x}⎠⎦"
      ]
     },
     "execution_count": 93,
     "metadata": {},
     "output_type": "execute_result"
    }
   ],
   "source": [
    "find_match(expr, a*b**2)"
   ]
  },
  {
   "cell_type": "code",
   "execution_count": 94,
   "metadata": {
    "collapsed": false
   },
   "outputs": [
    {
     "data": {
      "image/png": "[encoded data removed]",
      "text/latex": [
       "$$4 x^{2} + 4 y^{2} + \\left(x + 3 y\\right)^{2} + \\left(3 x + y\\right)^{2}$$"
      ],
      "text/plain": [
       "   2      2            2            2\n",
       "4⋅x  + 4⋅y  + (x + 3⋅y)  + (3⋅x + y) "
      ]
     },
     "execution_count": 94,
     "metadata": {},
     "output_type": "execute_result"
    }
   ],
   "source": [
    "# 用 replace 取代 子運算式\n",
    "expr.replace(a*b**2, (a+b)**2)"
   ]
  },
  {
   "cell_type": "code",
   "execution_count": 95,
   "metadata": {
    "collapsed": false
   },
   "outputs": [
    {
     "data": {
      "image/png": "[encoded data removed]",
      "text/latex": [
       "$$x^{3} + 3 x^{2} y + 3 x y^{2} + y^{3}$$"
      ],
      "text/plain": [
       " 3      2          2    3\n",
       "x  + 3⋅x ⋅y + 3⋅x⋅y  + y "
      ]
     },
     "execution_count": 95,
     "metadata": {},
     "output_type": "execute_result"
    }
   ],
   "source": [
    "expr"
   ]
  },
  {
   "cell_type": "code",
   "execution_count": 96,
   "metadata": {
    "collapsed": false
   },
   "outputs": [
    {
     "data": {
      "image/png": "[encoded data removed]",
      "text/latex": [
       "$$\\frac{\\sqrt{x}}{\\sin{\\left (y^{2} \\right )}} + e^{x} \\left|{x}\\right|$$"
      ],
      "text/plain": [
       "   √x      x    \n",
       "─────── + ℯ ⋅│x│\n",
       "   ⎛ 2⎞         \n",
       "sin⎝y ⎠         "
      ]
     },
     "execution_count": 96,
     "metadata": {},
     "output_type": "execute_result"
    }
   ],
   "source": [
    "x, y = symbols('x, y', real = True)\n",
    "\n",
    "# 用 WildFunction 來定義與任意函數符合的萬用字元\n",
    "expr = sqrt(x) / sin(y**2) + abs(exp(x) * x)\n",
    "expr"
   ]
  },
  {
   "cell_type": "code",
   "execution_count": 97,
   "metadata": {
    "collapsed": false
   },
   "outputs": [
    {
     "data": {
      "image/png": "[encoded data removed]",
      "text/latex": [
       "$$\\left [ \\left ( \\sin{\\left (y^{2} \\right )}, \\quad \\left \\{ \\operatorname{WildFunction}{\\left (f \\right )} : \\sin{\\left (y^{2} \\right )}\\right \\}\\right ), \\quad \\left ( \\left|{x}\\right|, \\quad \\left \\{ \\operatorname{WildFunction}{\\left (f \\right )} : \\left|{x}\\right|\\right \\}\\right ), \\quad \\left ( e^{x}, \\quad \\left \\{ \\operatorname{WildFunction}{\\left (f \\right )} : e^{x}\\right \\}\\right )\\right ]$$"
      ],
      "text/plain": [
       "⎡⎛   ⎛ 2⎞  ⎧                    ⎛ 2⎞⎫⎞                                 ⎛ x  ⎧ \n",
       "⎢⎜sin⎝y ⎠, ⎨WildFunction(f): sin⎝y ⎠⎬⎟, (│x│, {WildFunction(f): │x│}), ⎜ℯ , ⎨W\n",
       "⎣⎝         ⎩                        ⎭⎠                                 ⎝    ⎩ \n",
       "\n",
       "                 x⎫⎞⎤\n",
       "ildFunction(f): ℯ ⎬⎟⎥\n",
       "                  ⎭⎠⎦"
      ]
     },
     "execution_count": 97,
     "metadata": {},
     "output_type": "execute_result"
    }
   ],
   "source": [
    "f = WildFunction('f') # 代表任意一個函數\n",
    "\n",
    "find_match(expr, f)"
   ]
  },
  {
   "cell_type": "markdown",
   "metadata": {},
   "source": [
    "## 6.3 符號運算"
   ]
  },
  {
   "cell_type": "code",
   "execution_count": 98,
   "metadata": {
    "collapsed": false
   },
   "outputs": [
    {
     "data": {
      "image/png": "[encoded data removed]",
      "text/latex": [
       "$$- \\left(x + 1\\right)^{2} + \\left(x + 2\\right)^{2}$$"
      ],
      "text/plain": [
       "         2          2\n",
       "- (x + 1)  + (x + 2) "
      ]
     },
     "execution_count": 98,
     "metadata": {},
     "output_type": "execute_result"
    }
   ],
   "source": [
    "# simplify 用來簡化\n",
    "expr = (x + 2)**2 - (x + 1)**2\n",
    "expr"
   ]
  },
  {
   "cell_type": "code",
   "execution_count": 99,
   "metadata": {
    "collapsed": false
   },
   "outputs": [
    {
     "data": {
      "image/png": "[encoded data removed]",
      "text/latex": [
       "$$2 x + 3$$"
      ],
      "text/plain": [
       "2⋅x + 3"
      ]
     },
     "execution_count": 99,
     "metadata": {},
     "output_type": "execute_result"
    }
   ],
   "source": [
    "simplify(expr)"
   ]
  },
  {
   "cell_type": "code",
   "execution_count": 100,
   "metadata": {
    "collapsed": false
   },
   "outputs": [
    {
     "data": {
      "image/png": "[encoded data removed]",
      "text/latex": [
       "$$\\frac{1}{\\sqrt{5} + 2 \\sqrt{2}}$$"
      ],
      "text/plain": [
       "    1    \n",
       "─────────\n",
       "√5 + 2⋅√2"
      ]
     },
     "execution_count": 100,
     "metadata": {},
     "output_type": "execute_result"
    }
   ],
   "source": [
    "# radsimp 對分母進行有理化\n",
    "expr = 1 / (sqrt(5) + 2 * sqrt(2))\n",
    "expr"
   ]
  },
  {
   "cell_type": "code",
   "execution_count": 101,
   "metadata": {
    "collapsed": false
   },
   "outputs": [
    {
     "data": {
      "image/png": "[encoded data removed]",
      "text/latex": [
       "$$\\frac{1}{3} \\left(- \\sqrt{5} + 2 \\sqrt{2}\\right)$$"
      ],
      "text/plain": [
       "-√5 + 2⋅√2\n",
       "──────────\n",
       "    3     "
      ]
     },
     "execution_count": 101,
     "metadata": {},
     "output_type": "execute_result"
    }
   ],
   "source": [
    "radsimp(expr)"
   ]
  },
  {
   "cell_type": "code",
   "execution_count": 102,
   "metadata": {
    "collapsed": false
   },
   "outputs": [
    {
     "data": {
      "image/png": "[encoded data removed]",
      "text/latex": [
       "$$\\frac{1}{\\sqrt{x} y + x \\sqrt{y}}$$"
      ],
      "text/plain": [
       "     1     \n",
       "───────────\n",
       "√x⋅y + x⋅√y"
      ]
     },
     "execution_count": 102,
     "metadata": {},
     "output_type": "execute_result"
    }
   ],
   "source": [
    "# 對有號的運算進行處理\n",
    "expr = 1/(y * sqrt(x) + x * sqrt(y))\n",
    "expr"
   ]
  },
  {
   "cell_type": "code",
   "execution_count": 103,
   "metadata": {
    "collapsed": false
   },
   "outputs": [
    {
     "data": {
      "image/png": "[encoded data removed]",
      "text/latex": [
       "$$\\frac{- \\sqrt{x} y + x \\sqrt{y}}{x y \\left(x - y\\right)}$$"
      ],
      "text/plain": [
       "-√x⋅y + x⋅√y\n",
       "────────────\n",
       "x⋅y⋅(x - y) "
      ]
     },
     "execution_count": 103,
     "metadata": {},
     "output_type": "execute_result"
    }
   ],
   "source": [
    "radsimp(expr)"
   ]
  },
  {
   "cell_type": "code",
   "execution_count": 104,
   "metadata": {
    "collapsed": false
   },
   "outputs": [
    {
     "data": {
      "image/png": "[encoded data removed]",
      "text/latex": [
       "$$\\frac{x}{x + y} + \\frac{y}{x - y}$$"
      ],
      "text/plain": [
       "  x       y  \n",
       "───── + ─────\n",
       "x + y   x - y"
      ]
     },
     "execution_count": 104,
     "metadata": {},
     "output_type": "execute_result"
    }
   ],
   "source": [
    "# radsimp 對分母進行通分\n",
    "expr = x / (x + y) + y / (x-y)\n",
    "expr"
   ]
  },
  {
   "cell_type": "code",
   "execution_count": 105,
   "metadata": {
    "collapsed": false
   },
   "outputs": [
    {
     "data": {
      "image/png": "[encoded data removed]",
      "text/latex": [
       "$$\\frac{x \\left(x - y\\right) + y \\left(x + y\\right)}{\\left(x - y\\right) \\left(x + y\\right)}$$"
      ],
      "text/plain": [
       "x⋅(x - y) + y⋅(x + y)\n",
       "─────────────────────\n",
       "   (x - y)⋅(x + y)   "
      ]
     },
     "execution_count": 105,
     "metadata": {},
     "output_type": "execute_result"
    }
   ],
   "source": [
    "radsimp(expr)"
   ]
  },
  {
   "cell_type": "code",
   "execution_count": 106,
   "metadata": {
    "collapsed": false
   },
   "outputs": [
    {
     "data": {
      "image/png": "[encoded data removed]",
      "text/latex": [
       "$$\\left ( x + y, \\quad x y\\right )$$"
      ],
      "text/plain": [
       "(x + y, x⋅y)"
      ]
     },
     "execution_count": 106,
     "metadata": {},
     "output_type": "execute_result"
    }
   ],
   "source": [
    "# fraction() 傳回運算式的分子與分母\n",
    "fraction(radsimp(1/x + 1/y))"
   ]
  },
  {
   "cell_type": "code",
   "execution_count": 107,
   "metadata": {
    "collapsed": false
   },
   "outputs": [
    {
     "data": {
      "image/png": "[encoded data removed]",
      "text/latex": [
       "$$\\left ( \\frac{1}{y} + \\frac{1}{x}, \\quad 1\\right )$$"
      ],
      "text/plain": [
       "⎛1   1   ⎞\n",
       "⎜─ + ─, 1⎟\n",
       "⎝y   x   ⎠"
      ]
     },
     "execution_count": 107,
     "metadata": {},
     "output_type": "execute_result"
    }
   ],
   "source": [
    "# fraction 不對對運算式通分\n",
    "fraction(1/x + 1/y)"
   ]
  },
  {
   "cell_type": "code",
   "execution_count": 108,
   "metadata": {
    "collapsed": false
   },
   "outputs": [
    {
     "data": {
      "image/png": "[encoded data removed]",
      "text/latex": [
       "$$x - 1$$"
      ],
      "text/plain": [
       "x - 1"
      ]
     },
     "execution_count": 108,
     "metadata": {},
     "output_type": "execute_result"
    }
   ],
   "source": [
    "# cancel 用來約分\n",
    "cancel((x**2 - 1)/(x + 1))"
   ]
  },
  {
   "cell_type": "code",
   "execution_count": 109,
   "metadata": {
    "collapsed": false
   },
   "outputs": [
    {
     "data": {
      "image/png": "[encoded data removed]",
      "text/latex": [
       "$$\\frac{1}{x^{3} + x^{2} + x + 1}$$"
      ],
      "text/plain": [
       "       1       \n",
       "───────────────\n",
       " 3    2        \n",
       "x  + x  + x + 1"
      ]
     },
     "execution_count": 109,
     "metadata": {},
     "output_type": "execute_result"
    }
   ],
   "source": [
    "# 因式分解\n",
    "expr = 1/(x**3 + x**2 + x +1)\n",
    "expr"
   ]
  },
  {
   "cell_type": "code",
   "execution_count": 110,
   "metadata": {
    "collapsed": false
   },
   "outputs": [
    {
     "data": {
      "image/png": "[encoded data removed]",
      "text/latex": [
       "$$- \\frac{x - 1}{2 x^{2} + 2} + \\frac{1}{2 x + 2}$$"
      ],
      "text/plain": [
       "    x - 1          1    \n",
       "- ────────── + ─────────\n",
       "    ⎛ 2    ⎞   2⋅(x + 1)\n",
       "  2⋅⎝x  + 1⎠            "
      ]
     },
     "execution_count": 110,
     "metadata": {},
     "output_type": "execute_result"
    }
   ],
   "source": [
    "apart(expr)"
   ]
  },
  {
   "cell_type": "code",
   "execution_count": 111,
   "metadata": {
    "collapsed": false
   },
   "outputs": [
    {
     "data": {
      "image/png": "[encoded data removed]",
      "text/latex": [
       "$$\\sin^{2}{\\left (x \\right )} + 2 \\sin{\\left (x \\right )} \\cos{\\left (x \\right )} + \\cos^{2}{\\left (x \\right )}$$"
      ],
      "text/plain": [
       "   2                           2   \n",
       "sin (x) + 2⋅sin(x)⋅cos(x) + cos (x)"
      ]
     },
     "execution_count": 111,
     "metadata": {},
     "output_type": "execute_result"
    }
   ],
   "source": [
    "# trigsimp 用來簡化 三角函數運算式\n",
    "expr = sin(x)**2 + 2 * sin(x) * cos(x) + cos(x)**2\n",
    "expr"
   ]
  },
  {
   "cell_type": "code",
   "execution_count": 112,
   "metadata": {
    "collapsed": false
   },
   "outputs": [
    {
     "data": {
      "image/png": "[encoded data removed]",
      "text/latex": [
       "$$\\sin{\\left (2 x \\right )} + 1$$"
      ],
      "text/plain": [
       "sin(2⋅x) + 1"
      ]
     },
     "execution_count": 112,
     "metadata": {},
     "output_type": "execute_result"
    }
   ],
   "source": [
    "trigsimp(expr)"
   ]
  },
  {
   "cell_type": "code",
   "execution_count": 113,
   "metadata": {
    "collapsed": false
   },
   "outputs": [
    {
     "data": {
      "image/png": "[encoded data removed]",
      "text/latex": [
       "$$\\left(2 \\cos^{2}{\\left (x \\right )} - 1\\right) \\sin{\\left (y \\right )} + 2 \\sin{\\left (x \\right )} \\cos{\\left (x \\right )} \\cos{\\left (y \\right )}$$"
      ],
      "text/plain": [
       "⎛     2       ⎞                                \n",
       "⎝2⋅cos (x) - 1⎠⋅sin(y) + 2⋅sin(x)⋅cos(x)⋅cos(y)"
      ]
     },
     "execution_count": 113,
     "metadata": {},
     "output_type": "execute_result"
    }
   ],
   "source": [
    "# expand_trig() 用來展開三角函數運算\n",
    "expand_trig(sin(2*x + y))"
   ]
  },
  {
   "cell_type": "code",
   "execution_count": 121,
   "metadata": {
    "collapsed": false
   },
   "outputs": [
    {
     "data": {
      "image/png": "[encoded data removed]",
      "text/latex": [
       "$$x \\log{\\left (y \\right )} + x \\log{\\left (z \\right )}$$"
      ],
      "text/plain": [
       "x⋅log(y) + x⋅log(z)"
      ]
     },
     "execution_count": 121,
     "metadata": {},
     "output_type": "execute_result"
    }
   ],
   "source": [
    "# expand() 可以透過參數來設定是否要展開特定的運算\n",
    "x, y, z = symbols('x y z', positive = True)\n",
    "expand(x * log(y * z), mul = True)"
   ]
  },
  {
   "cell_type": "code",
   "execution_count": 122,
   "metadata": {
    "collapsed": false
   },
   "outputs": [
    {
     "data": {
      "image/png": "[encoded data removed]",
      "text/latex": [
       "$$x \\left(\\log{\\left (y \\right )} + \\log{\\left (z \\right )}\\right)$$"
      ],
      "text/plain": [
       "x⋅(log(y) + log(z))"
      ]
     },
     "execution_count": 122,
     "metadata": {},
     "output_type": "execute_result"
    }
   ],
   "source": [
    "expand(x * log(y * z), mul = False)"
   ]
  },
  {
   "cell_type": "code",
   "execution_count": 123,
   "metadata": {
    "collapsed": false
   },
   "outputs": [
    {
     "data": {
      "image/png": "[encoded data removed]",
      "text/latex": [
       "$$x^{z} y^{z}$$"
      ],
      "text/plain": [
       " z  z\n",
       "x ⋅y "
      ]
     },
     "execution_count": 123,
     "metadata": {},
     "output_type": "execute_result"
    }
   ],
   "source": [
    "expand((x*y)**z, power_base = True)"
   ]
  },
  {
   "cell_type": "code",
   "execution_count": 124,
   "metadata": {
    "collapsed": false
   },
   "outputs": [
    {
     "data": {
      "image/png": "[encoded data removed]",
      "text/latex": [
       "$$\\left(x y\\right)^{z}$$"
      ],
      "text/plain": [
       "     z\n",
       "(x⋅y) "
      ]
     },
     "execution_count": 124,
     "metadata": {},
     "output_type": "execute_result"
    }
   ],
   "source": [
    "expand((x*y)**z, power_base = False)"
   ]
  },
  {
   "cell_type": "code",
   "execution_count": 125,
   "metadata": {
    "collapsed": false
   },
   "outputs": [
    {
     "data": {
      "image/png": "[encoded data removed]",
      "text/latex": [
       "$$\\Re{x} \\Re{y} + i \\Re{x} \\Im{y} + i \\Re{y} \\Im{x} - \\Im{x} \\Im{y}$$"
      ],
      "text/plain": [
       "re(x)⋅re(y) + ⅈ⋅re(x)⋅im(y) + ⅈ⋅re(y)⋅im(x) - im(x)⋅im(y)"
      ]
     },
     "execution_count": 125,
     "metadata": {},
     "output_type": "execute_result"
    }
   ],
   "source": [
    "# 複數展開\n",
    "x, y = symbols('x y', complex = True)\n",
    "expand(x * y, complex = True)"
   ]
  },
  {
   "cell_type": "code",
   "execution_count": 126,
   "metadata": {
    "collapsed": false
   },
   "outputs": [
    {
     "data": {
      "image/png": "[encoded data removed]",
      "text/latex": [
       "$$x \\Gamma{\\left(x \\right)}$$"
      ],
      "text/plain": [
       "x⋅Γ(x)"
      ]
     },
     "execution_count": 126,
     "metadata": {},
     "output_type": "execute_result"
    }
   ],
   "source": [
    "# function 展開\n",
    "expand(gamma(1 + x), func = True)"
   ]
  },
  {
   "cell_type": "code",
   "execution_count": 127,
   "metadata": {
    "collapsed": false
   },
   "outputs": [
    {
     "data": {
      "image/png": "[encoded data removed]",
      "text/latex": [
       "$$\\sin{\\left (x \\right )} \\cos{\\left (y \\right )} + \\sin{\\left (y \\right )} \\cos{\\left (x \\right )}$$"
      ],
      "text/plain": [
       "sin(x)⋅cos(y) + sin(y)⋅cos(x)"
      ]
     },
     "execution_count": 127,
     "metadata": {},
     "output_type": "execute_result"
    }
   ],
   "source": [
    "# 三角函數展開\n",
    "expand(sin(x + y), trig = True)"
   ]
  },
  {
   "cell_type": "code",
   "execution_count": 133,
   "metadata": {
    "collapsed": false
   },
   "outputs": [
    {
     "data": {
      "image/png": "[encoded data removed]",
      "text/latex": [
       "$$\\sin{\\left (x + y \\right )}$$"
      ],
      "text/plain": [
       "sin(x + y)"
      ]
     },
     "execution_count": 133,
     "metadata": {},
     "output_type": "execute_result"
    }
   ],
   "source": [
    "expand(sin(x + y), trig = False)"
   ]
  },
  {
   "cell_type": "code",
   "execution_count": 131,
   "metadata": {
    "collapsed": false
   },
   "outputs": [
    {
     "data": {
      "image/png": "[encoded data removed]",
      "text/latex": [
       "$$\\sin{\\left (x \\right )} \\cos{\\left (y \\right )} + \\sin{\\left (y \\right )} \\cos{\\left (x \\right )}$$"
      ],
      "text/plain": [
       "sin(x)⋅cos(y) + sin(y)⋅cos(x)"
      ]
     },
     "execution_count": 131,
     "metadata": {},
     "output_type": "execute_result"
    }
   ],
   "source": [
    "sin(x + y).expand(trig = True)"
   ]
  },
  {
   "cell_type": "code",
   "execution_count": 132,
   "metadata": {
    "collapsed": false
   },
   "outputs": [
    {
     "data": {
      "image/png": "[encoded data removed]",
      "text/latex": [
       "$$\\sin{\\left (x \\right )} \\cos{\\left (y \\right )} + \\sin{\\left (y \\right )} \\cos{\\left (x \\right )}$$"
      ],
      "text/plain": [
       "sin(x)⋅cos(y) + sin(y)⋅cos(x)"
      ]
     },
     "execution_count": 132,
     "metadata": {},
     "output_type": "execute_result"
    }
   ],
   "source": [
    "expand_trig(sin(x + y))"
   ]
  },
  {
   "cell_type": "code",
   "execution_count": 134,
   "metadata": {
    "collapsed": false
   },
   "outputs": [
    {
     "data": {
      "image/png": "[encoded data removed]",
      "text/latex": [
       "$$15 x^{2} - 10 x y - 3 x + 2 y$$"
      ],
      "text/plain": [
       "    2                     \n",
       "15⋅x  - 10⋅x⋅y - 3⋅x + 2⋅y"
      ]
     },
     "execution_count": 134,
     "metadata": {},
     "output_type": "execute_result"
    }
   ],
   "source": [
    "# factor 做 因式分解\n",
    "expr = 15 * x**2 + 2 * y - 3 * x- 10 * x * y\n",
    "expr"
   ]
  },
  {
   "cell_type": "code",
   "execution_count": 136,
   "metadata": {
    "collapsed": false
   },
   "outputs": [
    {
     "data": {
      "image/png": "[encoded data removed]",
      "text/latex": [
       "$$\\left(3 x - 2 y\\right) \\left(5 x - 1\\right)$$"
      ],
      "text/plain": [
       "(3⋅x - 2⋅y)⋅(5⋅x - 1)"
      ]
     },
     "execution_count": 136,
     "metadata": {},
     "output_type": "execute_result"
    }
   ],
   "source": [
    "factor(expr)"
   ]
  },
  {
   "cell_type": "code",
   "execution_count": 141,
   "metadata": {
    "collapsed": false
   },
   "outputs": [
    {
     "data": {
      "image/png": "[encoded data removed]",
      "text/latex": [
       "$$\\left(x a + 1\\right)^{3} + \\left(x b + 1\\right)^{2}$$"
      ],
      "text/plain": [
       "         3            2\n",
       "(x⋅a + 1)  + (x⋅b + 1) "
      ]
     },
     "execution_count": 141,
     "metadata": {},
     "output_type": "execute_result"
    }
   ],
   "source": [
    "# collect , 用來 以指定的變數為基準，收集多項式的各階係數\n",
    "eq = (1 + a * x)**3 + (1 + b * x)**2\n",
    "eq"
   ]
  },
  {
   "cell_type": "code",
   "execution_count": 142,
   "metadata": {
    "collapsed": false
   },
   "outputs": [
    {
     "data": {
      "image/png": "[encoded data removed]",
      "text/latex": [
       "$$x^{3} a^{3} + 3 x^{2} a^{2} + x^{2} b^{2} + 3 x a + 2 x b + 2$$"
      ],
      "text/plain": [
       " 3  3      2  2    2  2                    \n",
       "x ⋅a  + 3⋅x ⋅a  + x ⋅b  + 3⋅x⋅a + 2⋅x⋅b + 2"
      ]
     },
     "execution_count": 142,
     "metadata": {},
     "output_type": "execute_result"
    }
   ],
   "source": [
    "eq2 = expand(eq)\n",
    "eq2"
   ]
  },
  {
   "cell_type": "code",
   "execution_count": 144,
   "metadata": {
    "collapsed": false
   },
   "outputs": [
    {
     "data": {
      "image/png": "[encoded data removed]",
      "text/latex": [
       "$$x^{3} a^{3} + x^{2} \\left(3 a^{2} + b^{2}\\right) + x \\left(3 a + 2 b\\right) + 2$$"
      ],
      "text/plain": [
       " 3  3    2 ⎛   2    2⎞                    \n",
       "x ⋅a  + x ⋅⎝3⋅a  + b ⎠ + x⋅(3⋅a + 2⋅b) + 2"
      ]
     },
     "execution_count": 144,
     "metadata": {},
     "output_type": "execute_result"
    }
   ],
   "source": [
    "p = collect(eq2, x)\n",
    "p "
   ]
  },
  {
   "cell_type": "code",
   "execution_count": 145,
   "metadata": {
    "collapsed": false
   },
   "outputs": [
    {
     "data": {
      "image/png": "[encoded data removed]",
      "text/latex": [
       "$$\\left \\{ 1 : 2, \\quad x : 3 a + 2 b, \\quad x^{2} : 3 a^{2} + b^{2}, \\quad x^{3} : a^{3}\\right \\}$$"
      ],
      "text/plain": [
       "⎧                     2     2    2   3   3⎫\n",
       "⎨1: 2, x: 3⋅a + 2⋅b, x : 3⋅a  + b , x : a ⎬\n",
       "⎩                                         ⎭"
      ]
     },
     "execution_count": 145,
     "metadata": {},
     "output_type": "execute_result"
    }
   ],
   "source": [
    "# evaluate = False, 傳回各階與其係數的字典\n",
    "p = collect(eq2, x, evaluate = False)\n",
    "p"
   ]
  },
  {
   "cell_type": "code",
   "execution_count": 152,
   "metadata": {
    "collapsed": false
   },
   "outputs": [
    {
     "data": {
      "image/png": "[encoded data removed]",
      "text/latex": [
       "$$3 a^{2} + b^{2}$$"
      ],
      "text/plain": [
       "   2    2\n",
       "3⋅a  + b "
      ]
     },
     "execution_count": 152,
     "metadata": {},
     "output_type": "execute_result"
    }
   ],
   "source": [
    "# 用 coeff() 也可獲得特定階層的係數\n",
    "eq2.coeff(x, 2)"
   ]
  },
  {
   "cell_type": "code",
   "execution_count": 156,
   "metadata": {
    "collapsed": false
   },
   "outputs": [
    {
     "data": {
      "image/png": "[encoded data removed]",
      "text/latex": [
       "$$\\left(a + b\\right) \\sin{\\left (2 x \\right )}$$"
      ],
      "text/plain": [
       "(a + b)⋅sin(2⋅x)"
      ]
     },
     "execution_count": 156,
     "metadata": {},
     "output_type": "execute_result"
    }
   ],
   "source": [
    "# 用 collect 收集特定階層的係數\n",
    "collect(a * sin(2 * x) + b * sin(2 *x ), sin(2 * x))"
   ]
  },
  {
   "cell_type": "markdown",
   "metadata": {},
   "source": [
    "### 6.3.2 方程式"
   ]
  },
  {
   "cell_type": "code",
   "execution_count": 157,
   "metadata": {
    "collapsed": false
   },
   "outputs": [
    {
     "data": {
      "image/png": "[encoded data removed]",
      "text/latex": [
       "$$\\left [ \\frac{1}{2 a} \\left(- b + \\sqrt{- 4 a c + b^{2}}\\right), \\quad - \\frac{1}{2 a} \\left(b + \\sqrt{- 4 a c + b^{2}}\\right)\\right ]$$"
      ],
      "text/plain": [
       "⎡        _____________   ⎛       _____________⎞ ⎤\n",
       "⎢       ╱           2    ⎜      ╱           2 ⎟ ⎥\n",
       "⎢-b + ╲╱  -4⋅a⋅c + b    -⎝b + ╲╱  -4⋅a⋅c + b  ⎠ ⎥\n",
       "⎢─────────────────────, ────────────────────────⎥\n",
       "⎣         2⋅a                     2⋅a           ⎦"
      ]
     },
     "execution_count": 157,
     "metadata": {},
     "output_type": "execute_result"
    }
   ],
   "source": [
    "# 用 solve 解方程式\n",
    "a, b, c = symbols('a b c')\n",
    "solve(a * x**2 + b * x + c, x)"
   ]
  },
  {
   "cell_type": "code",
   "execution_count": 166,
   "metadata": {
    "collapsed": false
   },
   "outputs": [
    {
     "data": {
      "image/png": "[encoded data removed]",
      "text/latex": [
       "$$\\left [ \\left ( - \\frac{\\sqrt{3} i}{3}, \\quad - \\frac{2 i}{3} \\sqrt{3}\\right ), \\quad \\left ( \\frac{\\sqrt{3} i}{3}, \\quad \\frac{2 i}{3} \\sqrt{3}\\right )\\right ]$$"
      ],
      "text/plain": [
       "⎡⎛-√3⋅ⅈ   -2⋅√3⋅ⅈ ⎞  ⎛√3⋅ⅈ  2⋅√3⋅ⅈ⎞⎤\n",
       "⎢⎜──────, ────────⎟, ⎜────, ──────⎟⎥\n",
       "⎣⎝  3        3    ⎠  ⎝ 3      3   ⎠⎦"
      ]
     },
     "execution_count": 166,
     "metadata": {},
     "output_type": "execute_result"
    }
   ],
   "source": [
    "# 解 方程組，須指定變數\n",
    "solve((x**2 + x * y + 1, y**2 + x * y + 2), x, y)"
   ]
  },
  {
   "cell_type": "code",
   "execution_count": 167,
   "metadata": {
    "collapsed": false
   },
   "outputs": [
    {
     "data": {
      "image/png": "[encoded data removed]",
      "text/latex": [
       "$$x^{3} - 3 x^{2} + x + 1$$"
      ],
      "text/plain": [
       " 3      2        \n",
       "x  - 3⋅x  + x + 1"
      ]
     },
     "execution_count": 167,
     "metadata": {},
     "output_type": "execute_result"
    }
   ],
   "source": [
    "# 用 roots() 求根\n",
    "expr = x**3 - 3 * x**2 + x + 1\n",
    "expr"
   ]
  },
  {
   "cell_type": "code",
   "execution_count": 168,
   "metadata": {
    "collapsed": false
   },
   "outputs": [
    {
     "data": {
      "image/png": "[encoded data removed]",
      "text/latex": [
       "$$\\left \\{ 1 : 1, \\quad 1 + \\sqrt{2} : 1, \\quad - \\sqrt{2} + 1 : 1\\right \\}$$"
      ],
      "text/plain": [
       "{1: 1, 1 + √2: 1, -√2 + 1: 1}"
      ]
     },
     "execution_count": 168,
     "metadata": {},
     "output_type": "execute_result"
    }
   ],
   "source": [
    "roots(expr)"
   ]
  },
  {
   "cell_type": "markdown",
   "metadata": {},
   "source": [
    "### 6.3.3 微分"
   ]
  },
  {
   "cell_type": "code",
   "execution_count": 169,
   "metadata": {
    "collapsed": false
   },
   "outputs": [
    {
     "data": {
      "image/png": "[encoded data removed]",
      "text/latex": [
       "$$\\frac{d}{d x} \\sin{\\left (x \\right )}$$"
      ],
      "text/plain": [
       "d         \n",
       "──(sin(x))\n",
       "dx        "
      ]
     },
     "execution_count": 169,
     "metadata": {},
     "output_type": "execute_result"
    }
   ],
   "source": [
    "# Derivative，傳回一個導函數\n",
    "t = Derivative(sin(x), x)\n",
    "t"
   ]
  },
  {
   "cell_type": "code",
   "execution_count": 171,
   "metadata": {
    "collapsed": false
   },
   "outputs": [
    {
     "data": {
      "image/png": "[encoded data removed]",
      "text/latex": [
       "$$\\cos{\\left (x \\right )}$$"
      ],
      "text/plain": [
       "cos(x)"
      ]
     },
     "execution_count": 171,
     "metadata": {},
     "output_type": "execute_result"
    }
   ],
   "source": [
    "# 用 doit() 求導\n",
    "t.doit()"
   ]
  },
  {
   "cell_type": "code",
   "execution_count": 172,
   "metadata": {
    "collapsed": false
   },
   "outputs": [
    {
     "data": {
      "image/png": "[encoded data removed]",
      "text/latex": [
       "$$\\cos{\\left (x \\right )}$$"
      ],
      "text/plain": [
       "cos(x)"
      ]
     },
     "execution_count": 172,
     "metadata": {},
     "output_type": "execute_result"
    }
   ],
   "source": [
    "# 也可以用 diff() 直接求導數\n",
    "diff(sin(x), x)"
   ]
  },
  {
   "cell_type": "code",
   "execution_count": 173,
   "metadata": {
    "collapsed": false
   },
   "outputs": [
    {
     "data": {
      "image/png": "[encoded data removed]",
      "text/latex": [
       "$$\\frac{d}{d x} f{\\left (x \\right )}$$"
      ],
      "text/plain": [
       "d       \n",
       "──(f(x))\n",
       "dx      "
      ]
     },
     "execution_count": 173,
     "metadata": {},
     "output_type": "execute_result"
    }
   ],
   "source": [
    "# 用 Derivative 對自訂的數學函數求導函數\n",
    "Derivative(f(x), x)"
   ]
  },
  {
   "cell_type": "code",
   "execution_count": 174,
   "metadata": {
    "collapsed": false
   },
   "outputs": [
    {
     "data": {
      "image/png": "[encoded data removed]",
      "text/latex": [
       "$$\\frac{d}{d x} f{\\left (x \\right )}$$"
      ],
      "text/plain": [
       "d       \n",
       "──(f(x))\n",
       "dx      "
      ]
     },
     "execution_count": 174,
     "metadata": {},
     "output_type": "execute_result"
    }
   ],
   "source": [
    "diff(f(x), x)"
   ]
  },
  {
   "cell_type": "code",
   "execution_count": 175,
   "metadata": {
    "collapsed": false
   },
   "outputs": [
    {
     "data": {
      "image/png": "[encoded data removed]",
      "text/latex": [
       "$$\\frac{d^{3}}{d x^{3}}  f{\\left (x \\right )}$$"
      ],
      "text/plain": [
       "  3      \n",
       " d       \n",
       "───(f(x))\n",
       "  3      \n",
       "dx       "
      ]
     },
     "execution_count": 175,
     "metadata": {},
     "output_type": "execute_result"
    }
   ],
   "source": [
    "# 求高階的導函數\n",
    "Derivative(f(x), x, 3)"
   ]
  },
  {
   "cell_type": "code",
   "execution_count": 176,
   "metadata": {
    "collapsed": false
   },
   "outputs": [
    {
     "data": {
      "image/png": "[encoded data removed]",
      "text/latex": [
       "$$\\frac{\\partial^{5}}{\\partial x^{2}\\partial y^{3}}  f{\\left (x,y \\right )}$$"
      ],
      "text/plain": [
       "    5           \n",
       "   ∂            \n",
       "───────(f(x, y))\n",
       "  3   2         \n",
       "∂y  ∂x          "
      ]
     },
     "execution_count": 176,
     "metadata": {},
     "output_type": "execute_result"
    }
   ],
   "source": [
    "# 偏導數\n",
    "Derivative(f(x, y), x, 2, y, 3)"
   ]
  },
  {
   "cell_type": "code",
   "execution_count": 177,
   "metadata": {
    "collapsed": false
   },
   "outputs": [
    {
     "data": {
      "image/png": "[encoded data removed]",
      "text/latex": [
       "$$\\frac{\\partial^{5}}{\\partial x^{2}\\partial y^{3}}  \\sin{\\left (x y \\right )}$$"
      ],
      "text/plain": [
       "    5            \n",
       "   ∂             \n",
       "───────(sin(x⋅y))\n",
       "  3   2          \n",
       "∂y  ∂x           "
      ]
     },
     "execution_count": 177,
     "metadata": {},
     "output_type": "execute_result"
    }
   ],
   "source": [
    "Derivative(sin(x*y), x, 2, y, 3)"
   ]
  },
  {
   "cell_type": "code",
   "execution_count": 178,
   "metadata": {
    "collapsed": false
   },
   "outputs": [
    {
     "data": {
      "image/png": "[encoded data removed]",
      "text/latex": [
       "$$x \\left(x^{2} y^{2} \\cos{\\left (x y \\right )} + 6 x y \\sin{\\left (x y \\right )} - 6 \\cos{\\left (x y \\right )}\\right)$$"
      ],
      "text/plain": [
       "  ⎛ 2  2                                       ⎞\n",
       "x⋅⎝x ⋅y ⋅cos(x⋅y) + 6⋅x⋅y⋅sin(x⋅y) - 6⋅cos(x⋅y)⎠"
      ]
     },
     "execution_count": 178,
     "metadata": {},
     "output_type": "execute_result"
    }
   ],
   "source": [
    "Derivative(sin(x*y), x, 2, y, 3).doit()"
   ]
  },
  {
   "cell_type": "code",
   "execution_count": 180,
   "metadata": {
    "collapsed": false
   },
   "outputs": [
    {
     "data": {
      "image/png": "[encoded data removed]",
      "text/latex": [
       "$$x \\left(x^{2} y^{2} \\cos{\\left (x y \\right )} + 6 x y \\sin{\\left (x y \\right )} - 6 \\cos{\\left (x y \\right )}\\right)$$"
      ],
      "text/plain": [
       "  ⎛ 2  2                                       ⎞\n",
       "x⋅⎝x ⋅y ⋅cos(x⋅y) + 6⋅x⋅y⋅sin(x⋅y) - 6⋅cos(x⋅y)⎠"
      ]
     },
     "execution_count": 180,
     "metadata": {},
     "output_type": "execute_result"
    }
   ],
   "source": [
    "diff(sin(x*y), x, 2, y, 3)"
   ]
  },
  {
   "cell_type": "markdown",
   "metadata": {},
   "source": [
    "### 6.3.4 微分方程"
   ]
  },
  {
   "cell_type": "code",
   "execution_count": 184,
   "metadata": {
    "collapsed": false
   },
   "outputs": [
    {
     "data": {
      "image/png": "[encoded data removed]",
      "text/latex": [
       "$$f{\\left (x \\right )} = C_{1} e^{x}$$"
      ],
      "text/plain": [
       "           x\n",
       "f(x) = C₁⋅ℯ "
      ]
     },
     "execution_count": 184,
     "metadata": {},
     "output_type": "execute_result"
    }
   ],
   "source": [
    "# dsolve() 可以對微分方程進行符號求解\n",
    "x = symbols('x')\n",
    "f = symbols('f', cls = Function)\n",
    "dsolve(Derivative(f(x), x) - f(x), f(x))  # f'(x) = f(x),求解 f(x)"
   ]
  },
  {
   "cell_type": "code",
   "execution_count": 189,
   "metadata": {
    "collapsed": false
   },
   "outputs": [
    {
     "data": {
      "text/plain": [
       "('1st_power_series', 'lie_group')"
      ]
     },
     "execution_count": 189,
     "metadata": {},
     "output_type": "execute_result"
    }
   ],
   "source": [
    "# classify_ode() 可以檢視可用的微分方程的解法\n",
    "eq = Eq(f(x).diff(x) + f(x), (cos(x) - sin(x)) * f(x)**2)\n",
    "classify_ode(eq, f(x))"
   ]
  },
  {
   "cell_type": "code",
   "execution_count": 191,
   "metadata": {
    "collapsed": false
   },
   "outputs": [
    {
     "data": {
      "image/png": "[encoded data removed]",
      "text/latex": [
       "$$f{\\left (x \\right )} = C_{1} - \\frac{C_{1} x^{2}}{2} - \\frac{C_{1} x^{3}}{6} + \\frac{C_{1} x^{4}}{4} + \\frac{C_{1} x^{5}}{120} \\left(- C_{1} \\left(C_{1} - 3\\right) - C_{1} \\left(C_{1} + 1\\right) + 4 C_{1} + 12\\right) + \\mathcal{O}\\left(x^{6}\\right)$$"
      ],
      "text/plain": [
       "                2       3       4       5                                     \n",
       "            C₁⋅x    C₁⋅x    C₁⋅x    C₁⋅x ⋅(-C₁⋅(C₁ - 3) - C₁⋅(C₁ + 1) + 4⋅C₁ +\n",
       "f(x) = C₁ - ───── - ───── + ───── + ──────────────────────────────────────────\n",
       "              2       6       4                          120                  \n",
       "\n",
       "            \n",
       " 12)    ⎛ 6⎞\n",
       "──── + O⎝x ⎠\n",
       "            "
      ]
     },
     "execution_count": 191,
     "metadata": {},
     "output_type": "execute_result"
    }
   ],
   "source": [
    "dsolve(eq, f(x))"
   ]
  },
  {
   "cell_type": "code",
   "execution_count": 192,
   "metadata": {
    "collapsed": false
   },
   "outputs": [
    {
     "data": {
      "image/png": "[encoded data removed]",
      "text/latex": [
       "$$f{\\left (x \\right )} = C_{1} - \\frac{C_{1} x^{2}}{2} - \\frac{C_{1} x^{3}}{6} + \\frac{C_{1} x^{4}}{4} + \\frac{C_{1} x^{5}}{120} \\left(- C_{1} \\left(C_{1} - 3\\right) - C_{1} \\left(C_{1} + 1\\right) + 4 C_{1} + 12\\right) + \\mathcal{O}\\left(x^{6}\\right)$$"
      ],
      "text/plain": [
       "                2       3       4       5                                     \n",
       "            C₁⋅x    C₁⋅x    C₁⋅x    C₁⋅x ⋅(-C₁⋅(C₁ - 3) - C₁⋅(C₁ + 1) + 4⋅C₁ +\n",
       "f(x) = C₁ - ───── - ───── + ───── + ──────────────────────────────────────────\n",
       "              2       6       4                          120                  \n",
       "\n",
       "            \n",
       " 12)    ⎛ 6⎞\n",
       "──── + O⎝x ⎠\n",
       "            "
      ]
     },
     "execution_count": 192,
     "metadata": {},
     "output_type": "execute_result"
    }
   ],
   "source": [
    "# 用 hint 指定 解法\n",
    "dsolve(eq, f(x), hint = '1st_power_series')"
   ]
  },
  {
   "cell_type": "code",
   "execution_count": 193,
   "metadata": {
    "collapsed": false
   },
   "outputs": [
    {
     "data": {
      "image/png": "[encoded data removed]",
      "text/latex": [
       "$$f{\\left (x \\right )} = \\frac{1}{C_{1} e^{x} - \\sin{\\left (x \\right )}}$$"
      ],
      "text/plain": [
       "             1       \n",
       "f(x) = ──────────────\n",
       "           x         \n",
       "       C₁⋅ℯ  - sin(x)"
      ]
     },
     "execution_count": 193,
     "metadata": {},
     "output_type": "execute_result"
    }
   ],
   "source": [
    "dsolve(eq, f(x), hint = 'lie_group')"
   ]
  },
  {
   "cell_type": "code",
   "execution_count": 194,
   "metadata": {
    "collapsed": false
   },
   "outputs": [
    {
     "data": {
      "text/plain": [
       "{'1st_power_series': Eq(f(x), C1 - C1*x**2/2 - C1*x**3/6 + C1*x**4/4 + C1*x**5*(-C1*(C1 - 3) - C1*(C1 + 1) + 4*C1 + 12)/120 + O(x**6)),\n",
       " 'best': Eq(f(x), 1/(C1*exp(x) - sin(x))),\n",
       " 'best_hint': 'lie_group',\n",
       " 'default': '1st_power_series',\n",
       " 'lie_group': Eq(f(x), 1/(C1*exp(x) - sin(x))),\n",
       " 'order': 1}"
      ]
     },
     "execution_count": 194,
     "metadata": {},
     "output_type": "execute_result"
    }
   ],
   "source": [
    "# hint = 'all', 嘗試各種解法\n",
    "dsolve(eq, f(x), hint = 'all')"
   ]
  },
  {
   "cell_type": "code",
   "execution_count": 196,
   "metadata": {
    "collapsed": false
   },
   "outputs": [
    {
     "data": {
      "text/plain": [
       "('separable',\n",
       " '1st_exact',\n",
       " '1st_linear',\n",
       " 'Bernoulli',\n",
       " 'Riccati_special_minus2',\n",
       " '1st_homogeneous_coeff_best',\n",
       " '1st_homogeneous_coeff_subs_indep_div_dep',\n",
       " '1st_homogeneous_coeff_subs_dep_div_indep',\n",
       " 'almost_linear',\n",
       " 'linear_coefficients',\n",
       " 'separable_reduced',\n",
       " '1st_power_series',\n",
       " 'lie_group',\n",
       " 'nth_linear_constant_coeff_homogeneous',\n",
       " 'nth_linear_euler_eq_homogeneous',\n",
       " 'nth_linear_constant_coeff_undetermined_coefficients',\n",
       " 'nth_linear_euler_eq_nonhomogeneous_undetermined_coefficients',\n",
       " 'nth_linear_constant_coeff_variation_of_parameters',\n",
       " 'nth_linear_euler_eq_nonhomogeneous_variation_of_parameters',\n",
       " 'Liouville',\n",
       " '2nd_power_series_ordinary',\n",
       " '2nd_power_series_regular',\n",
       " 'separable_Integral',\n",
       " '1st_exact_Integral',\n",
       " '1st_linear_Integral',\n",
       " 'Bernoulli_Integral',\n",
       " '1st_homogeneous_coeff_subs_indep_div_dep_Integral',\n",
       " '1st_homogeneous_coeff_subs_dep_div_indep_Integral',\n",
       " 'almost_linear_Integral',\n",
       " 'linear_coefficients_Integral',\n",
       " 'separable_reduced_Integral',\n",
       " 'nth_linear_constant_coeff_variation_of_parameters_Integral',\n",
       " 'nth_linear_euler_eq_nonhomogeneous_variation_of_parameters_Integral',\n",
       " 'Liouville_Integral')"
      ]
     },
     "execution_count": 196,
     "metadata": {},
     "output_type": "execute_result"
    }
   ],
   "source": [
    "ode.allhints"
   ]
  },
  {
   "cell_type": "markdown",
   "metadata": {},
   "source": [
    "### 6.3.5 積分"
   ]
  },
  {
   "cell_type": "code",
   "execution_count": 199,
   "metadata": {
    "collapsed": false
   },
   "outputs": [
    {
     "data": {
      "image/png": "[encoded data removed]",
      "text/latex": [
       "$$\\int x \\sin{\\left (x \\right )}\\, dx$$"
      ],
      "text/plain": [
       "⌠            \n",
       "⎮ x⋅sin(x) dx\n",
       "⌡            "
      ]
     },
     "execution_count": 199,
     "metadata": {},
     "output_type": "execute_result"
    }
   ],
   "source": [
    "# Integral() \n",
    "e = Integral(x * sin(x), x)\n",
    "e"
   ]
  },
  {
   "cell_type": "code",
   "execution_count": 200,
   "metadata": {
    "collapsed": false
   },
   "outputs": [
    {
     "data": {
      "image/png": "[encoded data removed]",
      "text/latex": [
       "$$- x \\cos{\\left (x \\right )} + \\sin{\\left (x \\right )}$$"
      ],
      "text/plain": [
       "-x⋅cos(x) + sin(x)"
      ]
     },
     "execution_count": 200,
     "metadata": {},
     "output_type": "execute_result"
    }
   ],
   "source": [
    "e.doit()\n",
    "# 進行積分運算"
   ]
  },
  {
   "cell_type": "code",
   "execution_count": 201,
   "metadata": {
    "collapsed": false
   },
   "outputs": [
    {
     "data": {
      "image/png": "[encoded data removed]",
      "text/latex": [
       "$$\\int_{0}^{1} \\frac{1}{x} \\sin{\\left (x \\right )}\\, dx$$"
      ],
      "text/plain": [
       "1          \n",
       "⌠          \n",
       "⎮ sin(x)   \n",
       "⎮ ────── dx\n",
       "⎮   x      \n",
       "⌡          \n",
       "0          "
      ]
     },
     "execution_count": 201,
     "metadata": {},
     "output_type": "execute_result"
    }
   ],
   "source": [
    "e2 = Integral(sin(x)/x , (x, 0, 1))\n",
    "e2\n",
    "# 積分運算式"
   ]
  },
  {
   "cell_type": "code",
   "execution_count": 202,
   "metadata": {
    "collapsed": false
   },
   "outputs": [
    {
     "data": {
      "image/png": "[encoded data removed]",
      "text/latex": [
       "$$\\operatorname{Si}{\\left (1 \\right )}$$"
      ],
      "text/plain": [
       "Si(1)"
      ]
     },
     "execution_count": 202,
     "metadata": {},
     "output_type": "execute_result"
    }
   ],
   "source": [
    "e2.doit()\n",
    "# 進行積分運算"
   ]
  },
  {
   "cell_type": "code",
   "execution_count": 203,
   "metadata": {
    "collapsed": false
   },
   "outputs": [
    {
     "data": {
      "image/png": "[encoded data removed]",
      "text/latex": [
       "$$0.946083070367183$$"
      ],
      "text/plain": [
       "0.946083070367183"
      ]
     },
     "execution_count": 203,
     "metadata": {},
     "output_type": "execute_result"
    }
   ],
   "source": [
    "e2.evalf()\n",
    "# 使用 evalf() 進行數值運算"
   ]
  },
  {
   "cell_type": "code",
   "execution_count": 204,
   "metadata": {
    "collapsed": false
   },
   "outputs": [
    {
     "data": {
      "image/png": "[encoded data removed]",
      "text/latex": [
       "$$0.94608307036718301494135331382317965781233795473811$$"
      ],
      "text/plain": [
       "0.94608307036718301494135331382317965781233795473811"
      ]
     },
     "execution_count": 204,
     "metadata": {},
     "output_type": "execute_result"
    }
   ],
   "source": [
    "e2.evalf(50) \n",
    "# 指定精度"
   ]
  },
  {
   "cell_type": "code",
   "execution_count": 205,
   "metadata": {
    "collapsed": false
   },
   "outputs": [
    {
     "data": {
      "image/png": "[encoded data removed]",
      "text/latex": [
       "$$\\int_{0}^{\\infty} \\frac{1}{x} \\sin{\\left (x \\right )}\\, dx$$"
      ],
      "text/plain": [
       "+inf          \n",
       " ⌠            \n",
       " ⎮   sin(x)   \n",
       " ⎮   ────── dx\n",
       " ⎮     x      \n",
       " ⌡            \n",
       " 0            "
      ]
     },
     "execution_count": 205,
     "metadata": {},
     "output_type": "execute_result"
    }
   ],
   "source": [
    "e3 = Integral(sin(x)/x, (x, 0, np.inf))\n",
    "e3"
   ]
  },
  {
   "cell_type": "code",
   "execution_count": 208,
   "metadata": {
    "collapsed": false
   },
   "outputs": [
    {
     "data": {
      "image/png": "[encoded data removed]",
      "text/latex": [
       "$$0$$"
      ],
      "text/plain": [
       "0"
      ]
     },
     "execution_count": 208,
     "metadata": {},
     "output_type": "execute_result"
    }
   ],
   "source": [
    "e3.evalf(50)\n",
    "# 這是錯誤的"
   ]
  },
  {
   "cell_type": "code",
   "execution_count": 209,
   "metadata": {
    "collapsed": false
   },
   "outputs": [
    {
     "data": {
      "image/png": "[encoded data removed]",
      "text/latex": [
       "$$1.5707963267949$$"
      ],
      "text/plain": [
       "1.57079632679490"
      ]
     },
     "execution_count": 209,
     "metadata": {},
     "output_type": "execute_result"
    }
   ],
   "source": [
    "e3.doit()\n",
    "# 應該等於 pi/2"
   ]
  },
  {
   "cell_type": "markdown",
   "metadata": {},
   "source": [
    "## 6.4 輸出符號運算式\n",
    "### 6.4.1 lambdify"
   ]
  },
  {
   "cell_type": "code",
   "execution_count": 214,
   "metadata": {
    "collapsed": false
   },
   "outputs": [
    {
     "data": {
      "text/plain": [
       "function"
      ]
     },
     "execution_count": 214,
     "metadata": {},
     "output_type": "execute_result"
    }
   ],
   "source": [
    "# lambdify() 可將 expression 轉換為 數值運算函數\n",
    "\n",
    "a, b ,c, x = symbols('a, b, c, x', real = True)  # 定義 symbols，皆為實數\n",
    "quadratic_roots = solve(a*x**2 + b*x + c, x)  # 產生一個 解的list\n",
    "lam_quadratic_roots_real = lambdify([a, b, c], quadratic_roots)  # 建立一個 lambdify 的 function\n",
    "type(lam_quadratic_roots_real)"
   ]
  },
  {
   "cell_type": "code",
   "execution_count": 216,
   "metadata": {
    "collapsed": false
   },
   "outputs": [
    {
     "data": {
      "image/png": "[encoded data removed]",
      "text/latex": [
       "$$\\left [ 1.0, \\quad 0.5\\right ]$$"
      ],
      "text/plain": [
       "[1.0, 0.5]"
      ]
     },
     "execution_count": 216,
     "metadata": {},
     "output_type": "execute_result"
    }
   ],
   "source": [
    "lam_quadratic_roots_real(2, -3, 1)"
   ]
  },
  {
   "cell_type": "code",
   "execution_count": 219,
   "metadata": {
    "collapsed": false
   },
   "outputs": [
    {
     "data": {
      "text/plain": [
       "[(-0.5+0.5j), (-0.5-0.5j)]"
      ]
     },
     "execution_count": 219,
     "metadata": {},
     "output_type": "execute_result"
    }
   ],
   "source": [
    "# 使用 lambdify 的 modules 參數，指定相依模組\n",
    "import cmath\n",
    "lam_quadratic_roots_real = lambdify([a, b, c], quadratic_roots, modules = [cmath])  \n",
    "lam_quadratic_roots_real(2, 2, 1)"
   ]
  },
  {
   "cell_type": "code",
   "execution_count": 244,
   "metadata": {
    "collapsed": false
   },
   "outputs": [
    {
     "data": {
      "text/plain": [
       "[array([-0.50000000+0.5j       , -0.29289322+0.j        ,\n",
       "        -1.00000000+0.j        , -0.50000000+1.32287566j]),\n",
       " array([-0.50000000-0.5j       , -1.70710678+0.j        ,\n",
       "        -1.00000000+0.j        , -0.50000000-1.32287566j])]"
      ]
     },
     "execution_count": 244,
     "metadata": {},
     "output_type": "execute_result"
    }
   ],
   "source": [
    "lam_quadratic_roots_real = lambdify([a, b, c], quadratic_roots, modules = [numpy])  \n",
    "\n",
    "A = np.array([2, 2, 1, 1], dtype = np.complex)\n",
    "B = np.array([2, 4, 2, 1], dtype = np.complex)\n",
    "C = np.array([1, 1, 1, 2], dtype = np.complex) \n",
    "s = lam_quadratic_roots_real(A, B, C)\n",
    "s"
   ]
  },
  {
   "cell_type": "code",
   "execution_count": 245,
   "metadata": {
    "collapsed": false
   },
   "outputs": [
    {
     "data": {
      "image/png": "[encoded data removed]",
      "text/latex": [
       "$$\\left ( 4\\right )$$"
      ],
      "text/plain": [
       "(4,)"
      ]
     },
     "execution_count": 245,
     "metadata": {},
     "output_type": "execute_result"
    }
   ],
   "source": [
    "s[0].shape"
   ]
  },
  {
   "cell_type": "markdown",
   "metadata": {},
   "source": [
    "### 6.4.2 用 autowrap() 編譯運算式"
   ]
  },
  {
   "cell_type": "markdown",
   "metadata": {},
   "source": [
    "### 6.4.3 使用 cse() 分步輸出運算式"
   ]
  },
  {
   "cell_type": "code",
   "execution_count": 247,
   "metadata": {
    "collapsed": false
   },
   "outputs": [
    {
     "data": {
      "image/png": "[encoded data removed]",
      "text/latex": [
       "$$\\left ( \\left [ \\left ( x_{0}, \\quad \\frac{1}{2 a}\\right ), \\quad \\left ( x_{1}, \\quad \\sqrt{- 4 a c + b^{2}}\\right )\\right ], \\quad \\left [ x_{0} \\left(- b + x_{1}\\right), \\quad - x_{0} \\left(b + x_{1}\\right)\\right ]\\right )$$"
      ],
      "text/plain": [
       "⎛⎡           ⎛       _____________⎞⎤                              ⎞\n",
       "⎜⎢⎛     1 ⎞  ⎜      ╱           2 ⎟⎥                              ⎟\n",
       "⎜⎢⎜x₀, ───⎟, ⎝x₁, ╲╱  -4⋅a⋅c + b  ⎠⎥, [x₀⋅(-b + x₁), -x₀⋅(b + x₁)]⎟\n",
       "⎝⎣⎝    2⋅a⎠                        ⎦                              ⎠"
      ]
     },
     "execution_count": 247,
     "metadata": {},
     "output_type": "execute_result"
    }
   ],
   "source": [
    "replacements, reduced_exprs = cse(quadratic_roots)\n",
    "replacements, reduced_exprs \n",
    "# cse() 輸出兩個 lists\n",
    "# 第一個 list: 臨時變數與運算式\n",
    "# 第二個 list: 運算結果，可以分析 公共運算式"
   ]
  },
  {
   "cell_type": "code",
   "execution_count": 248,
   "metadata": {
    "collapsed": false
   },
   "outputs": [
    {
     "data": {
      "image/png": "[encoded data removed]",
      "text/latex": [
       "$$\\left ( \\left [ \\left ( temp_{0}, \\quad \\frac{1}{2 a}\\right ), \\quad \\left ( temp_{1}, \\quad \\sqrt{- 4 a c + b^{2}}\\right )\\right ], \\quad \\left [ temp_{0} \\left(- b + temp_{1}\\right), \\quad - temp_{0} \\left(b + temp_{1}\\right)\\right ]\\right )$$"
      ],
      "text/plain": [
       "⎛⎡              ⎛          _____________⎞⎤                                    \n",
       "⎜⎢⎛        1 ⎞  ⎜         ╱           2 ⎟⎥                                    \n",
       "⎜⎢⎜temp₀, ───⎟, ⎝temp₁, ╲╱  -4⋅a⋅c + b  ⎠⎥, [temp₀⋅(-b + temp₁), -temp₀⋅(b + t\n",
       "⎝⎣⎝       2⋅a⎠                           ⎦                                    \n",
       "\n",
       "      ⎞\n",
       "      ⎟\n",
       "emp₁)]⎟\n",
       "      ⎠"
      ]
     },
     "execution_count": 248,
     "metadata": {},
     "output_type": "execute_result"
    }
   ],
   "source": [
    "# 用 symbols 參數修改臨時變數的 prefix\n",
    "replacements, reduced_exprs = cse(quadratic_roots, symbols = numbered_symbols('temp'))\n",
    "replacements, reduced_exprs "
   ]
  },
  {
   "cell_type": "markdown",
   "metadata": {},
   "source": [
    "## 6.5 機械運動模擬"
   ]
  },
  {
   "cell_type": "code",
   "execution_count": 249,
   "metadata": {
    "collapsed": true
   },
   "outputs": [],
   "source": [
    "from sympy.physics.mechanics import *\n",
    "I = ReferenceFrame('I')                # 定義慣性參照系\n",
    "O = Point('O')                         # 定義原點\n",
    "O.set_vel(I, 0)                        # 設定點O在參照系I中的速度為0\n",
    "g = symbols(\"g\")"
   ]
  },
  {
   "cell_type": "code",
   "execution_count": 250,
   "metadata": {
    "collapsed": true
   },
   "outputs": [],
   "source": [
    "q = dynamicsymbols(\"q\")\n",
    "u = dynamicsymbols(\"u\")\n",
    "m1 = symbols(\"m1\")\n",
    "P1 = Point('P1')                    \n",
    "P1.set_pos(O, q * I.x)              # 點P1的位置相對於點O，沿著參照系I的X軸偏移q\n",
    "P1.set_vel(I, u * I.x)              # 點P1在參照系I中的速度為X軸方向，大小為u\n",
    "box = Particle('box', P1, m1)       # 在點P1處放置質量為m1的方塊box"
   ]
  },
  {
   "cell_type": "code",
   "execution_count": 251,
   "metadata": {
    "collapsed": false
   },
   "outputs": [
    {
     "data": {
      "image/png": "[encoded data removed]",
      "text/latex": [
       "$$\\left ( q{\\left (t \\right )}, \\quad u{\\left (t \\right )}\\right )$$"
      ],
      "text/plain": [
       "(q(t), u(t))"
      ]
     },
     "execution_count": 251,
     "metadata": {},
     "output_type": "execute_result"
    }
   ],
   "source": [
    "q, u"
   ]
  },
  {
   "cell_type": "code",
   "execution_count": 252,
   "metadata": {
    "collapsed": true
   },
   "outputs": [],
   "source": [
    "th = dynamicsymbols(\"theta\")\n",
    "w  = dynamicsymbols(\"omega\")\n",
    "B = I.orientnew('B', 'Axis', [th, I.z])  # 將I圍繞Z軸旋轉theta得到參照系B\n",
    "B.set_ang_vel(I, w * I.z)                # 設定B的角速度"
   ]
  },
  {
   "cell_type": "code",
   "execution_count": 253,
   "metadata": {
    "collapsed": true
   },
   "outputs": [],
   "source": [
    "l, m2 = symbols(\"l,m2\")\n",
    "P2 = P1.locatenew('P2', -l * B.y)  # P2相對於P1沿著B的Y軸負方向偏移l\n",
    "P2.v2pt_theory(P1, I, B)           # 使用二點理論設定P2在I中的速度\n",
    "ball = Particle('ball', P2, m2)    # 在P2處放置質量為m2的小球 "
   ]
  },
  {
   "cell_type": "code",
   "execution_count": 254,
   "metadata": {
    "collapsed": false
   },
   "outputs": [
    {
     "data": {
      "image/png": "[encoded data removed]",
      "text/latex": [
       "$$u\\mathbf{\\hat{i}_x} + l \\omega\\mathbf{\\hat{b}_x}$$"
      ],
      "text/plain": [
       "u(t) i_x + l⋅ω(t) b_x"
      ]
     },
     "execution_count": 254,
     "metadata": {},
     "output_type": "execute_result"
    }
   ],
   "source": [
    "P2.vel(I) #顯示P2在I中的速度"
   ]
  },
  {
   "cell_type": "code",
   "execution_count": 255,
   "metadata": {
    "collapsed": true
   },
   "outputs": [],
   "source": [
    "eqs = [q.diff() - u, th.diff() - w] #q的導數為u，th的導數為w\n",
    "kane = KanesMethod(I, q_ind=[q, th], u_ind=[u, w], kd_eqs=eqs)"
   ]
  },
  {
   "cell_type": "code",
   "execution_count": 256,
   "metadata": {
    "collapsed": true
   },
   "outputs": [],
   "source": [
    "particles = [box, ball]  #系統包括的所有質點\n",
    "forces = [(P1, -m1*g*I.y), (P2, -m2*g*I.y)] #系統所受的外力\n",
    "fr, frstar = kane.kanes_equations(forces, particles)"
   ]
  },
  {
   "cell_type": "code",
   "execution_count": 259,
   "metadata": {
    "collapsed": false
   },
   "outputs": [
    {
     "data": {
      "image/png": "[encoded data removed]",
      "text/latex": [
       "$$\\left ( l m_{2} \\omega^{2}{\\left (t \\right )} \\sin{\\left (\\theta{\\left (t \\right )} \\right )} - l m_{2} \\cos{\\left (\\theta{\\left (t \\right )} \\right )} \\frac{d}{d t} \\omega{\\left (t \\right )} - \\left(m_{1} + m_{2}\\right) \\frac{d}{d t} u{\\left (t \\right )} = 0, \\quad - g l m_{2} \\sin{\\left (\\theta{\\left (t \\right )} \\right )} - l^{2} m_{2} \\frac{d}{d t} \\omega{\\left (t \\right )} - l m_{2} \\cos{\\left (\\theta{\\left (t \\right )} \\right )} \\frac{d}{d t} u{\\left (t \\right )} = 0\\right )$$"
      ],
      "text/plain": [
       "⎛      2                               d                    d                 \n",
       "⎜l⋅m₂⋅ω (t)⋅sin(θ(t)) - l⋅m₂⋅cos(θ(t))⋅──(ω(t)) - (m₁ + m₂)⋅──(u(t)) = 0, -g⋅l\n",
       "⎝                                      dt                   dt                \n",
       "\n",
       "                 2    d                         d           ⎞\n",
       "⋅m₂⋅sin(θ(t)) - l ⋅m₂⋅──(ω(t)) - l⋅m₂⋅cos(θ(t))⋅──(u(t)) = 0⎟\n",
       "                      dt                        dt          ⎠"
      ]
     },
     "execution_count": 259,
     "metadata": {},
     "output_type": "execute_result"
    }
   ],
   "source": [
    "Eq(fr[0] + frstar[0], 0), Eq(fr[1] + frstar[1], 0)"
   ]
  },
  {
   "cell_type": "code",
   "execution_count": 260,
   "metadata": {
    "collapsed": false
   },
   "outputs": [
    {
     "data": {
      "text/latex": [
       "$$\\left[\\begin{matrix}1 & 0 & 0 & 0\\\\0 & 1 & 0 & 0\\\\0 & 0 & m_{1} + m_{2} & l m_{2} \\cos{\\left (\\theta{\\left (t \\right )} \\right )}\\\\0 & 0 & l m_{2} \\cos{\\left (\\theta{\\left (t \\right )} \\right )} & l^{2} m_{2}\\end{matrix}\\right]\\left[\\begin{matrix}\\frac{d}{d t} q{\\left (t \\right )}\\\\\\frac{d}{d t} \\theta{\\left (t \\right )}\\\\\\frac{d}{d t} u{\\left (t \\right )}\\\\\\frac{d}{d t} \\omega{\\left (t \\right )}\\end{matrix}\\right]=\\left[\\begin{matrix}u{\\left (t \\right )}\\\\\\omega{\\left (t \\right )}\\\\l m_{2} \\omega^{2}{\\left (t \\right )} \\sin{\\left (\\theta{\\left (t \\right )} \\right )}\\\\- g l m_{2} \\sin{\\left (\\theta{\\left (t \\right )} \\right )}\\end{matrix}\\right]$$"
      ],
      "text/plain": [
       "<IPython.core.display.Math object>"
      ]
     },
     "execution_count": 260,
     "metadata": {},
     "output_type": "execute_result"
    }
   ],
   "source": [
    "from IPython import display\n",
    "status = Matrix([[q],[th],[u],[w]])\n",
    "display.Math(latex(kane.mass_matrix_full) + latex(status.diff()) + \n",
    "             \"=\" + latex(kane.forcing_full))"
   ]
  },
  {
   "cell_type": "markdown",
   "metadata": {},
   "source": [
    "### 將符號表達式轉為程式"
   ]
  },
  {
   "cell_type": "code",
   "execution_count": 261,
   "metadata": {
    "collapsed": true
   },
   "outputs": [],
   "source": [
    "diff_status = kane.mass_matrix_full.inv() * kane.forcing_full"
   ]
  }
 ],
 "metadata": {
  "kernelspec": {
   "display_name": "Python 3",
   "language": "python",
   "name": "python3"
  },
  "language_info": {
   "codemirror_mode": {
    "name": "ipython",
    "version": 3
   },
   "file_extension": ".py",
   "mimetype": "text/x-python",
   "name": "python",
   "nbconvert_exporter": "python",
   "pygments_lexer": "ipython3",
   "version": "3.6.0"
  }
 },
 "nbformat": 4,
 "nbformat_minor": 2
}
