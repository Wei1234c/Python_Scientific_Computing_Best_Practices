{
 "cells": [
  {
   "cell_type": "code",
   "execution_count": 7,
   "metadata": {
    "collapsed": false
   },
   "outputs": [
    {
     "name": "stderr",
     "output_type": "stream",
     "text": [
      "ERROR:root:Line magic function `%matplotlib_svg` not found.\n"
     ]
    }
   ],
   "source": [
    "import numpy as np\n",
    "%matplotlib_svg\n",
    "import pylab as pl"
   ]
  },
  {
   "cell_type": "markdown",
   "metadata": {},
   "source": [
    "### 多項式函數"
   ]
  },
  {
   "cell_type": "code",
   "execution_count": 8,
   "metadata": {
    "collapsed": false
   },
   "outputs": [],
   "source": [
    "a = np.array([1.0, 0, -2, 1])"
   ]
  },
  {
   "cell_type": "code",
   "execution_count": 9,
   "metadata": {
    "collapsed": false
   },
   "outputs": [
    {
     "name": "stdout",
     "output_type": "stream",
     "text": [
      "<class 'numpy.lib.polynomial.poly1d'>\n"
     ]
    },
    {
     "data": {
      "text/plain": [
       "array([ 1.      ,  0.515625,  0.125   , -0.078125,  0.      ])"
      ]
     },
     "execution_count": 9,
     "metadata": {},
     "output_type": "execute_result"
    }
   ],
   "source": [
    "p = np.poly1d(a)\n",
    "print(type(p))\n",
    "p(np.linspace(0, 1, 5))     "
   ]
  },
  {
   "cell_type": "code",
   "execution_count": 10,
   "metadata": {
    "collapsed": false
   },
   "outputs": [
    {
     "data": {
      "text/plain": [
       "poly1d([ 1.,  0., -4.,  2.])"
      ]
     },
     "execution_count": 10,
     "metadata": {},
     "output_type": "execute_result"
    }
   ],
   "source": [
    "p + [-2, 1] # 和 p + np.poly1d([-2, 1]) 相同"
   ]
  },
  {
   "cell_type": "code",
   "execution_count": 11,
   "metadata": {
    "collapsed": false
   },
   "outputs": [
    {
     "data": {
      "text/plain": [
       "poly1d([ 1.,  0., -4.,  2.,  4., -4.,  1.])"
      ]
     },
     "execution_count": 11,
     "metadata": {},
     "output_type": "execute_result"
    }
   ],
   "source": [
    "p * p # 兩個3次多項式相乘得到一個6次多項式"
   ]
  },
  {
   "cell_type": "code",
   "execution_count": 12,
   "metadata": {
    "collapsed": false
   },
   "outputs": [
    {
     "data": {
      "text/plain": [
       "(poly1d([ 1., -1., -1.]), poly1d([ 2.]))"
      ]
     },
     "execution_count": 12,
     "metadata": {},
     "output_type": "execute_result"
    }
   ],
   "source": [
    "p / [1, 1] # 除法傳回兩個多項式，分別為商式和余式"
   ]
  },
  {
   "cell_type": "code",
   "execution_count": 13,
   "metadata": {
    "collapsed": false
   },
   "outputs": [
    {
     "data": {
      "text/plain": [
       "True"
      ]
     },
     "execution_count": 13,
     "metadata": {},
     "output_type": "execute_result"
    }
   ],
   "source": [
    "p == np.poly1d([ 1., -1., -1.]) * [1,1] + 2 "
   ]
  },
  {
   "cell_type": "code",
   "execution_count": 14,
   "metadata": {
    "collapsed": false
   },
   "outputs": [
    {
     "data": {
      "text/plain": [
       "poly1d([ 3.,  0., -2.])"
      ]
     },
     "execution_count": 14,
     "metadata": {},
     "output_type": "execute_result"
    }
   ],
   "source": [
    "p.deriv()"
   ]
  },
  {
   "cell_type": "code",
   "execution_count": 15,
   "metadata": {
    "collapsed": false
   },
   "outputs": [
    {
     "data": {
      "text/plain": [
       "poly1d([ 0.25,  0.  , -1.  ,  1.  ,  0.  ])"
      ]
     },
     "execution_count": 15,
     "metadata": {},
     "output_type": "execute_result"
    }
   ],
   "source": [
    "p.integ()"
   ]
  },
  {
   "cell_type": "code",
   "execution_count": 16,
   "metadata": {
    "collapsed": false
   },
   "outputs": [
    {
     "data": {
      "text/plain": [
       "True"
      ]
     },
     "execution_count": 16,
     "metadata": {},
     "output_type": "execute_result"
    }
   ],
   "source": [
    "p.integ().deriv() == p"
   ]
  },
  {
   "cell_type": "code",
   "execution_count": 17,
   "metadata": {
    "collapsed": false
   },
   "outputs": [
    {
     "data": {
      "text/plain": [
       "array([-1.61803399,  1.        ,  0.61803399])"
      ]
     },
     "execution_count": 17,
     "metadata": {},
     "output_type": "execute_result"
    }
   ],
   "source": [
    "r = np.roots(p)\n",
    "r"
   ]
  },
  {
   "cell_type": "code",
   "execution_count": 18,
   "metadata": {
    "collapsed": false
   },
   "outputs": [
    {
     "data": {
      "text/plain": [
       "array([  2.33146835e-15,   4.44089210e-16,   1.11022302e-16])"
      ]
     },
     "execution_count": 18,
     "metadata": {},
     "output_type": "execute_result"
    }
   ],
   "source": [
    "p(r) # 將根帶入多項式計算，得到的值近似為0"
   ]
  },
  {
   "cell_type": "code",
   "execution_count": 19,
   "metadata": {
    "collapsed": false
   },
   "outputs": [
    {
     "data": {
      "text/plain": [
       "array([  1.00000000e+00,  -7.77156117e-16,  -2.00000000e+00,\n",
       "         1.00000000e+00])"
      ]
     },
     "execution_count": 19,
     "metadata": {},
     "output_type": "execute_result"
    }
   ],
   "source": [
    "np.poly(r)"
   ]
  },
  {
   "cell_type": "code",
   "execution_count": 20,
   "metadata": {
    "collapsed": false
   },
   "outputs": [
    {
     "data": {
      "text/plain": [
       "array([1, 2, 1])"
      ]
     },
     "execution_count": 20,
     "metadata": {},
     "output_type": "execute_result"
    }
   ],
   "source": [
    "np.polymul([1,1],[1,1]) "
   ]
  },
  {
   "cell_type": "code",
   "execution_count": 23,
   "metadata": {
    "collapsed": false
   },
   "outputs": [
    {
     "name": "stdout",
     "output_type": "stream",
     "text": [
      "degree 3: [-0.145  -0.      0.9887 -0.    ]\n",
      "max error of order 3: 0.00894699376707\n",
      "degree 5: [ 0.0076  0.     -0.1658 -0.      0.9998 -0.    ]\n",
      "max error of order 5: 0.000157408614171\n",
      "degree 7: [-0.0002 -0.      0.0083 -0.     -0.1667 -0.      1.     -0.    ]\n",
      "max error of order 7: 1.52682558208e-06\n"
     ]
    }
   ],
   "source": [
    "np.set_printoptions(suppress=True, precision=4)\n",
    "\n",
    "x = np.linspace(-np.pi / 2, np.pi / 2, 1000)  # ❶\n",
    "y = np.sin(x)  # ❷\n",
    "\n",
    "for deg in [3, 5, 7]:\n",
    "    a = np.polyfit(x, y, deg)  # ❸\n",
    "    error = np.abs(np.polyval(a, x) - y)  # ❹\n",
    "    print(\"degree {}: {}\".format(deg, a))\n",
    "    print(\"max error of order %d:\" % deg, np.max(error))"
   ]
  },
  {
   "cell_type": "code",
   "execution_count": 24,
   "metadata": {
    "collapsed": false
   },
   "outputs": [],
   "source": [
    "#%figonly=各階多項式近似正弦函數的誤差\n",
    "pl.figure(figsize=(8, 4))\n",
    "\n",
    "x = np.linspace(-np.pi / 2, np.pi / 2, 500)\n",
    "y = np.sin(x)\n",
    "\n",
    "for deg in [3, 5, 7]:\n",
    "    a = np.polyfit(x, y, deg)\n",
    "    error = np.abs(np.polyval(a, x) - y)\n",
    "    pl.semilogy(x, error, label=u\"{}階多項式的誤差\".format(deg))\n",
    "pl.legend(loc='upper center', bbox_to_anchor=(0.5, 1.08),\n",
    "          ncol=3, fancybox=True)\n",
    "pl.axis('tight');"
   ]
  },
  {
   "cell_type": "markdown",
   "metadata": {},
   "source": [
    "### 多項式函數類別"
   ]
  },
  {
   "cell_type": "code",
   "execution_count": 26,
   "metadata": {
    "collapsed": false
   },
   "outputs": [
    {
     "name": "stdout",
     "output_type": "stream",
     "text": [
      "5.0\n"
     ]
    }
   ],
   "source": [
    "from numpy.polynomial import Polynomial, Chebyshev\n",
    "p = Polynomial([1, -2, 0, 1])\n",
    "print(p(2.0))"
   ]
  },
  {
   "cell_type": "code",
   "execution_count": 27,
   "metadata": {
    "collapsed": false
   },
   "outputs": [
    {
     "data": {
      "text/plain": [
       "Polynomial([-2.,  0.,  3.], [-1.,  1.], [-1.,  1.])"
      ]
     },
     "execution_count": 27,
     "metadata": {},
     "output_type": "execute_result"
    }
   ],
   "source": [
    "p.deriv()"
   ]
  },
  {
   "cell_type": "code",
   "execution_count": 28,
   "metadata": {
    "collapsed": false
   },
   "outputs": [
    {
     "data": {
      "text/plain": [
       "Polynomial([ 1.,  0., -8.,  0.,  8.], [-1.,  1.], [-1.,  1.])"
      ]
     },
     "execution_count": 28,
     "metadata": {},
     "output_type": "execute_result"
    }
   ],
   "source": [
    "Chebyshev.basis(4).convert(kind=Polynomial)"
   ]
  },
  {
   "cell_type": "code",
   "execution_count": 29,
   "metadata": {
    "collapsed": false
   },
   "outputs": [],
   "source": [
    "#%figonly=0到4次切比雪夫多項式\n",
    "x = np.linspace(-1, 1, 100)\n",
    "for i in range(5):\n",
    "    ax = pl.plot(x, Chebyshev.basis(i)(x), lw=2, label=\"$T_%d$\" % i)\n",
    "pl.ylim(-1.5, 1.5)\n",
    "pl.legend(loc='upper center', bbox_to_anchor=(0.5, 1.08),\n",
    "          ncol=5, fancybox=True);"
   ]
  },
  {
   "cell_type": "code",
   "execution_count": 31,
   "metadata": {
    "collapsed": false
   },
   "outputs": [
    {
     "name": "stdout",
     "output_type": "stream",
     "text": [
      "插值多項式的最大誤差：\n",
      "等距離取樣點： 1.91556933029\n",
      "切比雪夫節點： 0.109149825014\n"
     ]
    }
   ],
   "source": [
    "def f(x):\n",
    "    return 1.0 / ( 1 + 25 * x**2)\n",
    "\n",
    "n = 11\n",
    "x1 = np.linspace(-1, 1, n) #❶\n",
    "x2 = Chebyshev.basis(n).roots() #❷\n",
    "xd = np.linspace(-1, 1, 200)\n",
    "\n",
    "c1 = Chebyshev.fit(x1, f(x1), n - 1, domain=[-1, 1]) #❸\n",
    "c2 = Chebyshev.fit(x2, f(x2), n - 1, domain=[-1, 1])\n",
    "\n",
    "print(u\"插值多項式的最大誤差：\",)\n",
    "print(u\"等距離取樣點：\", abs(c1(xd) - f(xd)).max(),)\n",
    "print(u\"切比雪夫節點：\", abs(c2(xd) - f(xd)).max())"
   ]
  },
  {
   "cell_type": "code",
   "execution_count": 32,
   "metadata": {
    "collapsed": false
   },
   "outputs": [],
   "source": [
    "#%figonly=等距離插值點（左）、切比雪夫插值點（右）\n",
    "fig, (ax1, ax2) = pl.subplots(1, 2, figsize=(12, 4))\n",
    "ax1.plot(xd, f(xd), \"--\", label=u\"$f(x)$\")\n",
    "ax1.plot(x1, f(x1), \"o\", label=u\"插值點\")\n",
    "ax1.plot(xd, c1(xd), label=u\"插值多項式\")\n",
    "\n",
    "ax1.legend(loc=\"upper center\")\n",
    "\n",
    "ax2.plot(xd, f(xd), \"--\")\n",
    "ax2.plot(x2, f(x2), \"o\")\n",
    "ax2.plot(xd, c2(xd));"
   ]
  },
  {
   "cell_type": "code",
   "execution_count": 42,
   "metadata": {
    "collapsed": false
   },
   "outputs": [
    {
     "name": "stdout",
     "output_type": "stream",
     "text": [
      "Max Polynomial Error: 1.19483440648\n",
      "Max Chebyshev Error: 6.47571951617e-09\n"
     ]
    },
    {
     "name": "stderr",
     "output_type": "stream",
     "text": [
      "/home/wei/anaconda3/lib/python3.6/site-packages/numpy/polynomial/polynomial.py:1407: RankWarning: The fit may be poorly conditioned\n",
      "  warnings.warn(msg, pu.RankWarning)\n"
     ]
    }
   ],
   "source": [
    "def g(x):\n",
    "    x = (x - 1) * 5\n",
    "    return np.sin(x**2) + np.sin(x)**2\n",
    "\n",
    "n = 100\n",
    "x = Chebyshev.basis(n).roots()\n",
    "xd = np.linspace(-1, 1, 1000)\n",
    "\n",
    "p_g = Polynomial.fit(x, g(x), n - 1, domain=[-1, 1])\n",
    "c_g = Chebyshev.fit(x, g(x), n - 1, domain=[-1, 1])\n",
    "\n",
    "print(\"Max Polynomial Error:\", abs(g(xd) - p_g(xd)).max())\n",
    "print(\"Max Chebyshev Error:\", abs(g(xd) - c_g(xd)).max())"
   ]
  },
  {
   "cell_type": "code",
   "execution_count": null,
   "metadata": {
    "collapsed": false
   },
   "outputs": [],
   "source": [
    "#%figonly=Chebyshev插值與Polynomial插值比較\n",
    "pl.figure(figsize=(9, 4))\n",
    "pl.plot(xd, g(xd), \"k--\", label=\"$g(x)$\")\n",
    "pl.plot(xd, c_g(xd), alpha=0.6, label=u\"Chebyshev fit\")\n",
    "pl.plot(xd, p_g(xd), alpha=0.6, label=u\"Polynomial fit\")\n",
    "pl.legend(loc=\"best\");"
   ]
  },
  {
   "cell_type": "code",
   "execution_count": 37,
   "metadata": {
    "collapsed": false
   },
   "outputs": [
    {
     "name": "stdout",
     "output_type": "stream",
     "text": [
      "degree: 68\n",
      "error: 0.0912094835458\n"
     ]
    }
   ],
   "source": [
    "c_trimed = c_g.trim(tol=0.05)\n",
    "print(\"degree:\", c_trimed.degree())\n",
    "print(\"error:\", abs(g(xd) - c_trimed(xd)).max())"
   ]
  },
  {
   "cell_type": "code",
   "execution_count": 38,
   "metadata": {
    "collapsed": false
   },
   "outputs": [
    {
     "name": "stdout",
     "output_type": "stream",
     "text": [
      "Max Chebyshev Error: 1.66544178448e-09\n"
     ]
    }
   ],
   "source": [
    "def h(x):\n",
    "    x = 5 * x\n",
    "    return np.exp(-x**2 / 10)\n",
    "\n",
    "n = 20\n",
    "x = Chebyshev.basis(n).roots()\n",
    "c_h = Chebyshev.fit(x, h(x), n - 1, domain=[-1, 1])\n",
    "\n",
    "print(\"Max Chebyshev Error:\", abs(h(xd) - c_h(xd)).max())"
   ]
  },
  {
   "cell_type": "code",
   "execution_count": 39,
   "metadata": {
    "collapsed": false
   },
   "outputs": [
    {
     "name": "stdout",
     "output_type": "stream",
     "text": [
      "True\n"
     ]
    }
   ],
   "source": [
    "c_diff = c_g - c_h\n",
    "roots = c_diff.roots()\n",
    "real_roots = roots[roots.imag == 0].real\n",
    "print(np.allclose(c_diff(real_roots), 0))"
   ]
  },
  {
   "cell_type": "code",
   "execution_count": 40,
   "metadata": {
    "collapsed": false
   },
   "outputs": [],
   "source": [
    "#%figonly=使用Chebyshev插值計算兩條曲線在[-1, 1]之間的所有交點\n",
    "pl.figure(figsize=(9, 4))\n",
    "pl.plot(xd, g(xd))\n",
    "pl.plot(xd, h(xd))\n",
    "pl.plot(real_roots, h(real_roots), \"kx\", markeredgewidth=1)\n",
    "pl.xlim(-1, 1);"
   ]
  },
  {
   "cell_type": "code",
   "execution_count": 41,
   "metadata": {
    "collapsed": false
   },
   "outputs": [
    {
     "name": "stdout",
     "output_type": "stream",
     "text": [
      "Max Chebyshev Error: 6.4757306184e-09\n"
     ]
    }
   ],
   "source": [
    "def g2(x):\n",
    "    return np.sin(x**2) + np.sin(x)**2\n",
    "\n",
    "n = 100\n",
    "x = Chebyshev.basis(n, domain=[-10, 0]).roots() #❶\n",
    "xd = np.linspace(-10, 0, 1000)\n",
    "\n",
    "c_g2 = Chebyshev.fit(x, g2(x), n - 1, domain=[-10, 0]) #❷\n",
    "\n",
    "print(\"Max Chebyshev Error:\", abs(g2(xd) - c_g2(xd)).max()) #❸"
   ]
  }
 ],
 "metadata": {
  "kernelspec": {
   "display_name": "Python 3",
   "language": "python",
   "name": "python3"
  },
  "language_info": {
   "codemirror_mode": {
    "name": "ipython",
    "version": 3
   },
   "file_extension": ".py",
   "mimetype": "text/x-python",
   "name": "python",
   "nbconvert_exporter": "python",
   "pygments_lexer": "ipython3",
   "version": "3.6.0"
  }
 },
 "nbformat": 4,
 "nbformat_minor": 0
}
