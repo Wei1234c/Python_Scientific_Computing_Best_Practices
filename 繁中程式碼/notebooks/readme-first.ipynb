{
 "cells": [
  {
   "cell_type": "markdown",
   "metadata": {},
   "source": [
    "# Python科學計算 示範程式使用說明"
   ]
  },
  {
   "cell_type": "code",
   "execution_count": 22,
   "metadata": {
    "collapsed": false
   },
   "outputs": [],
   "source": [
    "import subprocess\n",
    "import os\n",
    "from os import path\n",
    "import re\n",
    "from IPython.nbformat import read"
   ]
  },
  {
   "cell_type": "markdown",
   "metadata": {},
   "source": [
    "本資料夾儲存本書所有章節對應的IPython Notebook檔案。為了正確顯示其中的SVG圖表，需要執行下面的程式“Trust”所有的Notebook："
   ]
  },
  {
   "cell_type": "code",
   "execution_count": 23,
   "metadata": {
    "collapsed": false
   },
   "outputs": [],
   "source": [
    "# for folder, subfolders, filenames in os.walk(\".\"):\n",
    "#     for filename in filenames:\n",
    "#         fullpath = path.join(folder, filename)\n",
    "#         if fullpath.lower().endswith(\".ipynb\"):\n",
    "#             subprocess.call([\"ipython\", \"trust\", fullpath, \"--profile\", \"scipybook2\"])"
   ]
  },
  {
   "cell_type": "markdown",
   "metadata": {},
   "source": [
    "* 透過[examples.ipynb](examples.ipynb)可以執行本書提供的所有案例程式。\n",
    "\n",
    "* 透過[nbextensions](../../nbextensions/)可以開關Notebook的所有Javascript外掛。\n",
    "\n",
    "* 本書采用Notebook撰寫，請開啟[IPython Notebook動作練習](01-intro/notebook-train.ipynb)研讀Notebook的基本動作。\n",
    "\n",
    "* 請開啟[本書提供的魔法指令](01-intro/scpy2-magics.ipynb)檢視本書新增的所有魔法指令。\n",
    "\n",
    "* 執行下面的程式可以得到所有章節對應的Notebook檔案連結："
   ]
  },
  {
   "cell_type": "code",
   "execution_count": 24,
   "metadata": {
    "collapsed": false
   },
   "outputs": [
    {
     "data": {
      "text/markdown": [
       "[01-intro - intro-100-whypython - Python科學計算環境的安裝與簡介](01-intro/intro-100-whypython.ipynb)\n",
       "\n",
       "[01-intro - intro-200-ipython - IPython Notebook入門](01-intro/intro-200-ipython.ipynb)\n",
       "\n",
       "[01-intro - intro-300-library - 延伸庫介紹](01-intro/intro-300-library.ipynb)\n",
       "\n",
       "[02-numpy - numpy-100-ndarray - NumPy-快速處理資料](02-numpy/numpy-100-ndarray.ipynb)\n",
       "\n",
       "[02-numpy - numpy-200-ufunc - ufunc函數](02-numpy/numpy-200-ufunc.ipynb)\n",
       "\n",
       "[02-numpy - numpy-300-mulitindex - 多維陣列的索引存取](02-numpy/numpy-300-mulitindex.ipynb)\n",
       "\n",
       "[02-numpy - numpy-400-functions - 龐大的函數庫](02-numpy/numpy-400-functions.ipynb)\n",
       "\n",
       "[02-numpy - numpy-410-functions-sort - 大小與排序](02-numpy/numpy-410-functions-sort.ipynb)\n",
       "\n",
       "[02-numpy - numpy-420-functions-count - 統計函數](02-numpy/numpy-420-functions-count.ipynb)\n",
       "\n",
       "[02-numpy - numpy-430-functions-array-op - 動作多維陣列](02-numpy/numpy-430-functions-array-op.ipynb)\n",
       "\n",
       "[02-numpy - numpy-450-functions-poly - 多項式函數](02-numpy/numpy-450-functions-poly.ipynb)\n",
       "\n",
       "[02-numpy - numpy-460-functions-dot - 各種乘積運算](02-numpy/numpy-460-functions-dot.ipynb)\n",
       "\n",
       "[02-numpy - numpy-470-gufuncs - 廣義ufunc函數](02-numpy/numpy-470-gufuncs.ipynb)\n",
       "\n",
       "[02-numpy - numpy-900-tips - 實用技巧](02-numpy/numpy-900-tips.ipynb)\n",
       "\n",
       "[03-scipy - scipy-100-intro - SciPy-數值計算庫](03-scipy/scipy-100-intro.ipynb)\n",
       "\n",
       "[03-scipy - scipy-210-optimize - 擬合與改善-optimize](03-scipy/scipy-210-optimize.ipynb)\n",
       "\n",
       "[03-scipy - scipy-310-linalg - 線性代數-linalg](03-scipy/scipy-310-linalg.ipynb)\n",
       "\n",
       "[03-scipy - scipy-400-stats - 統計-stats](03-scipy/scipy-400-stats.ipynb)\n",
       "\n",
       "[03-scipy - scipy-500-integrate - 數值積分-integrate](03-scipy/scipy-500-integrate.ipynb)\n",
       "\n",
       "[03-scipy - scipy-600-signal - 訊號處理-signal](03-scipy/scipy-600-signal.ipynb)\n",
       "\n",
       "[03-scipy - scipy-700-interpolate - 插值-interpolate](03-scipy/scipy-700-interpolate.ipynb)\n",
       "\n",
       "[03-scipy - scipy-810-sparse - 稀疏矩陣-sparse](03-scipy/scipy-810-sparse.ipynb)\n",
       "\n",
       "[03-scipy - scipy-900-ndimage - 圖形處理-ndimage](03-scipy/scipy-900-ndimage.ipynb)\n",
       "\n",
       "[03-scipy - scipy-A00-spatial - 空間算法庫-spatial](03-scipy/scipy-A00-spatial.ipynb)\n",
       "\n",
       "[04-matplotlib - matplotlib-100-fastdraw - matplotlib-繪制精美的圖表](04-matplotlib/matplotlib-100-fastdraw.ipynb)\n",
       "\n",
       "[04-matplotlib - matplotlib-200-artists - Artist物件](04-matplotlib/matplotlib-200-artists.ipynb)\n",
       "\n",
       "[04-matplotlib - matplotlib-300-transform - 座標變換和注解](04-matplotlib/matplotlib-300-transform.ipynb)\n",
       "\n",
       "[04-matplotlib - matplotlib-400-patch-collections - 塊、路徑和集合](04-matplotlib/matplotlib-400-patch-collections.ipynb)\n",
       "\n",
       "[04-matplotlib - matplotlib-500-plot-functions - 繪圖函數簡介](04-matplotlib/matplotlib-500-plot-functions.ipynb)\n",
       "\n",
       "[04-matplotlib - matplotlib-600-tips - matplotlib技巧集](04-matplotlib/matplotlib-600-tips.ipynb)\n",
       "\n",
       "[05-pandas - pandas-100-dataobjects - Pandas-方便的資料分析庫](05-pandas/pandas-100-dataobjects.ipynb)\n",
       "\n",
       "[05-pandas - pandas-200-getset - 索引存取](05-pandas/pandas-200-getset.ipynb)\n",
       "\n",
       "[05-pandas - pandas-300-io - 檔案的輸入輸出](05-pandas/pandas-300-io.ipynb)\n",
       "\n",
       "[05-pandas - pandas-400-calculation - 數值運算函數](05-pandas/pandas-400-calculation.ipynb)\n",
       "\n",
       "[05-pandas - pandas-500-string - 字串處理](05-pandas/pandas-500-string.ipynb)\n",
       "\n",
       "[05-pandas - pandas-600-datetime - 時間序列](05-pandas/pandas-600-datetime.ipynb)\n",
       "\n",
       "[05-pandas - pandas-700-nan - 與`NaN`關聯的函數](05-pandas/pandas-700-nan.ipynb)\n",
       "\n",
       "[05-pandas - pandas-800-changeshape - 改變DataFrame的形狀](05-pandas/pandas-800-changeshape.ipynb)\n",
       "\n",
       "[05-pandas - pandas-900-groupby - 分群組運算](05-pandas/pandas-900-groupby.ipynb)\n",
       "\n",
       "[05-pandas - pandas-A00-examples - 資料處理和可視化案例](05-pandas/pandas-A00-examples.ipynb)\n",
       "\n",
       "[06-sympy - sympy-100-intro - SymPy-符號運算好幫手](06-sympy/sympy-100-intro.ipynb)\n",
       "\n",
       "[06-sympy - sympy-200-expression - 數學表達式](06-sympy/sympy-200-expression.ipynb)\n",
       "\n",
       "[06-sympy - sympy-300-calculations - 符號運算](06-sympy/sympy-300-calculations.ipynb)\n",
       "\n",
       "[06-sympy - sympy-400-output - 輸出符號表達式](06-sympy/sympy-400-output.ipynb)\n",
       "\n",
       "[06-sympy - sympy-500-mechanics - 機械運動類比](06-sympy/sympy-500-mechanics.ipynb)\n",
       "\n",
       "[07-traits - traits-100-intro - Traits & TraitsUI-輕松製作圖形界面](07-traits/traits-100-intro.ipynb)\n",
       "\n",
       "[07-traits - traits-200-types - Trait型態](07-traits/traits-200-types.ipynb)\n",
       "\n",
       "[07-traits - traits-300-uiintro - TraitsUI入門](07-traits/traits-300-uiintro.ipynb)\n",
       "\n",
       "[07-traits - traits-400-handler - 用Handler控制界面和模型](07-traits/traits-400-handler.ipynb)\n",
       "\n",
       "[07-traits - traits-500-editors - 屬性編輯器](07-traits/traits-500-editors.ipynb)\n",
       "\n",
       "[07-traits - traits-600-example - 函數曲線繪制工具](07-traits/traits-600-example.ipynb)\n",
       "\n",
       "[08-tvtk_mayavi - tvtk_mayavi-100-intro - TVTK與Mayavi-資料的3D可視化](08-tvtk_mayavi/tvtk_mayavi-100-intro.ipynb)\n",
       "\n",
       "[08-tvtk_mayavi - tvtk_mayavi-200-pipeline - VTK的管線(Pipeline)](08-tvtk_mayavi/tvtk_mayavi-200-pipeline.ipynb)\n",
       "\n",
       "[08-tvtk_mayavi - tvtk_mayavi-300-dataset - 資料集](08-tvtk_mayavi/tvtk_mayavi-300-dataset.ipynb)\n",
       "\n",
       "[08-tvtk_mayavi - tvtk_mayavi-400-tvtk_and_vtk - TVTK的改進](08-tvtk_mayavi/tvtk_mayavi-400-tvtk_and_vtk.ipynb)\n",
       "\n",
       "[08-tvtk_mayavi - tvtk_mayavi-500-tvtk-examples - TVTK可視化案例](08-tvtk_mayavi/tvtk_mayavi-500-tvtk-examples.ipynb)\n",
       "\n",
       "[08-tvtk_mayavi - tvtk_mayavi-600-mlab - 用mlab快速繪圖](08-tvtk_mayavi/tvtk_mayavi-600-mlab.ipynb)\n",
       "\n",
       "[08-tvtk_mayavi - tvtk_mayavi-700-embed-gui - 將TVTK和Mayavi內嵌到界面中](08-tvtk_mayavi/tvtk_mayavi-700-embed-gui.ipynb)\n",
       "\n",
       "[09-opencv - opencv-100-input-output - OpenCV-圖形處理和電腦視覺](09-opencv/opencv-100-input-output.ipynb)\n",
       "\n",
       "[09-opencv - opencv-200-imgprocess - 圖形處理](09-opencv/opencv-200-imgprocess.ipynb)\n",
       "\n",
       "[09-opencv - opencv-400-identify - 圖形識別](09-opencv/opencv-400-identify.ipynb)\n",
       "\n",
       "[09-opencv - opencv-500-shapes - 形狀與結構分析](09-opencv/opencv-500-shapes.ipynb)\n",
       "\n",
       "[09-opencv - opencv-600-type-convert - 型態轉換](09-opencv/opencv-600-type-convert.ipynb)\n",
       "\n",
       "[10-cython - cython-100-compiler - Cython-編譯Python程式](10-cython/cython-100-compiler.ipynb)\n",
       "\n",
       "[10-cython - cython-200-intro - Cython入門](10-cython/cython-200-intro.ipynb)\n",
       "\n",
       "[10-cython - cython-300-memoryview - 高效率處理陣列](10-cython/cython-300-memoryview.ipynb)\n",
       "\n",
       "[10-cython - cython-400-python-api - 使用Python標准物件和API](10-cython/cython-400-python-api.ipynb)\n",
       "\n",
       "[10-cython - cython-500-cdef-class - 延伸型態](10-cython/cython-500-cdef-class.ipynb)\n",
       "\n",
       "[10-cython - cython-600-tips - Cython技巧集](10-cython/cython-600-tips.ipynb)\n",
       "\n",
       "[11-examples - examples-000-intro - 案例](11-examples/examples-000-intro.ipynb)\n",
       "\n",
       "[11-examples - examples-100-possion - 使用泊松混合合成圖形](11-examples/examples-100-possion.ipynb)\n",
       "\n",
       "[11-examples - examples-200-physics-simulation - 經典力學類比](11-examples/examples-200-physics-simulation.ipynb)\n",
       "\n",
       "[11-examples - examples-300-movielens - 推薦算法](11-examples/examples-300-movielens.ipynb)\n",
       "\n",
       "[11-examples - examples-400-fft - 頻域訊號處理](11-examples/examples-400-fft.ipynb)\n",
       "\n",
       "[11-examples - examples-500-picosat - 布爾可滿足性問題求解器](11-examples/examples-500-picosat.ipynb)\n",
       "\n",
       "[11-examples - examples-600-fractal - 分形](11-examples/examples-600-fractal.ipynb)"
      ]
     },
     "metadata": {},
     "output_type": "display_data"
    }
   ],
   "source": [
    "links = []\n",
    "for folder, _, filenames in os.walk(\".\"):\n",
    "    for filename in filenames:\n",
    "        if re.match(r\"\\w+-[0-9a-zA-Z]\\d\\d-.+?\\.ipynb$\", filename) and not folder.endswith('ipynb_checkpoints'):\n",
    "            fullpath = path.join(folder, filename)\n",
    "            book = read(fullpath, 4)\n",
    "            for cell in book.cells:\n",
    "                if cell.cell_type == \"markdown\" and cell.source.startswith(\"#\"):\n",
    "                    title = cell.source.strip(\"# \")\n",
    "                    name = path.splitext(filename)[0]                    \n",
    "                    folder = path.basename(folder)\n",
    "                    link = u\"[{folder} - {name} - {title}]({folder}/{name}.ipynb)\".format(title=title, name=name, folder=folder)\n",
    "                    links.append(link)\n",
    "                    break\n",
    "\n",
    "from IPython.display import display_markdown, Markdown\n",
    "display_markdown(Markdown(u\"\\n\\n\".join(sorted(links))))"
   ]
  },
  {
   "cell_type": "code",
   "execution_count": 25,
   "metadata": {
    "collapsed": false
   },
   "outputs": [
    {
     "data": {
      "text/plain": [
       "nbformat.notebooknode.NotebookNode"
      ]
     },
     "execution_count": 25,
     "metadata": {},
     "output_type": "execute_result"
    }
   ],
   "source": [
    "type(book)"
   ]
  }
 ],
 "metadata": {
  "kernelspec": {
   "display_name": "Python 3",
   "language": "python",
   "name": "python3"
  },
  "language_info": {
   "codemirror_mode": {
    "name": "ipython",
    "version": 3
   },
   "file_extension": ".py",
   "mimetype": "text/x-python",
   "name": "python",
   "nbconvert_exporter": "python",
   "pygments_lexer": "ipython3",
   "version": "3.6.0"
  }
 },
 "nbformat": 4,
 "nbformat_minor": 0
}
